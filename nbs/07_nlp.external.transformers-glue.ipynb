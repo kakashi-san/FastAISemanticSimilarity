{
  "cells": [
    {
      "cell_type": "code",
      "execution_count": 6,
      "metadata": {
        "id": "kbWBkRAR1YCI"
      },
      "outputs": [],
      "source": [
        " \n",
        "# !pip install -U wwf"
      ]
    },
    {
      "cell_type": "markdown",
      "source": [],
      "metadata": {
        "id": "fzmthFQn2qBx"
      }
    },
    {
      "cell_type": "code",
      "source": [
        "# ! pip install fastai==2.3.1\n",
        "# ! pip install fastcore==1.3.19\n",
        "# ! pip install transformers==4.6.0\n",
        "# ! pip install datasets==1.6.1"
      ],
      "metadata": {
        "id": "RwqhOtgq2qnD"
      },
      "execution_count": 7,
      "outputs": []
    },
    {
      "cell_type": "code",
      "execution_count": 2,
      "metadata": {
        "id": "qBr_si831YCM"
      },
      "outputs": [],
      "source": [
        "#all_slow"
      ]
    },
    {
      "cell_type": "markdown",
      "metadata": {
        "id": "_tnK-xk11YCN"
      },
      "source": [
        "# Text Classification with Transformers (Intermediate)\n",
        "\n",
        "> Fine-tuning pre-trained LM from HuggingFace model hub on GLUE benchmark"
      ]
    },
    {
      "cell_type": "code",
      "execution_count": 8,
      "metadata": {
        "id": "M-94DzCR1YCO"
      },
      "outputs": [],
      "source": [
        "#hide\n",
        "from wwf.utils import *"
      ]
    },
    {
      "cell_type": "code",
      "execution_count": 89,
      "metadata": {
        "id": "4HcBulft1YCP"
      },
      "outputs": [],
      "source": [
        "from transformers import AutoModelForSequenceClassification, AutoTokenizer\n",
        "from fastai.text.all import *\n",
        "from datasets import Dataset, DatasetDict\n",
        "import pandas as pd\n",
        "from sklearn.model_selection import train_test_split\n",
        "from datasets import load_dataset, concatenate_datasets\n",
        "from inspect import signature\n",
        "import gc"
      ]
    },
    {
      "cell_type": "code",
      "source": [],
      "metadata": {
        "id": "n3QMfgfc9Pn4"
      },
      "execution_count": null,
      "outputs": []
    },
    {
      "cell_type": "code",
      "execution_count": 10,
      "metadata": {
        "id": "JfBTvEjU1YCP",
        "outputId": "0fa9579f-f5f6-4f71-8d0a-cbe3f3199623",
        "colab": {
          "base_uri": "https://localhost:8080/",
          "height": 163
        }
      },
      "outputs": [
        {
          "output_type": "execute_result",
          "data": {
            "text/plain": [
              "<IPython.core.display.Markdown object>"
            ],
            "text/markdown": "\n---\nThis article is also a Jupyter Notebook available to be run from the top down. There\nwill be code snippets that you can then run in any environment.\n\nBelow are the versions of `fastai`, `fastcore`, `transformers`, and `datasets` currently running at the time of writing this:\n* `fastai` : 2.3.1 \n* `fastcore` : 1.3.19 \n* `transformers` : 4.6.0 \n* `datasets` : 1.6.1 \n---"
          },
          "metadata": {},
          "execution_count": 10
        }
      ],
      "source": [
        "#hide_input\n",
        "state_versions(['fastai', 'fastcore', 'transformers', 'datasets'])"
      ]
    },
    {
      "cell_type": "markdown",
      "metadata": {
        "id": "--JhfVjy1YCQ"
      },
      "source": [
        "## Setup\n",
        "\n",
        "In this notebook we will look at how to conbine the power of [HuggingFace](https://huggingface.co/) with great flexibility of [fastai](https://www.fast.ai/). For this purpose we will be finetuning `distilroberta-base` on The [General Language Understanding Evaluation(GLUE) benchmark](https://gluebenchmark.com/) tasks.\n",
        "\n",
        "To give you a grasp on what are we dealing with, here is a brief summary of GLUE tasks:"
      ]
    },
    {
      "cell_type": "code",
      "execution_count": 11,
      "metadata": {
        "id": "u4cyCAMx1YCQ",
        "outputId": "510fe640-c04b-472d-bd91-db19ee53ec34",
        "colab": {
          "base_uri": "https://localhost:8080/",
          "height": 328
        }
      },
      "outputs": [
        {
          "output_type": "display_data",
          "data": {
            "text/plain": [
              "<IPython.core.display.HTML object>"
            ],
            "text/html": [
              "<table border=\"1\" class=\"dataframe\">\n",
              "  <thead>\n",
              "    <tr style=\"text-align: right;\">\n",
              "      <th></th>\n",
              "      <th>Name</th>\n",
              "      <th>Task description</th>\n",
              "      <th>Size</th>\n",
              "      <th>Metrics</th>\n",
              "    </tr>\n",
              "  </thead>\n",
              "  <tbody>\n",
              "    <tr>\n",
              "      <th>cola</th>\n",
              "      <td>Corpus of Linguistic Acceptability</td>\n",
              "      <td>Determine whether it is a grammatical sentence</td>\n",
              "      <td>8.5k</td>\n",
              "      <td>matthews_corrcoef</td>\n",
              "    </tr>\n",
              "    <tr>\n",
              "      <th>sst2</th>\n",
              "      <td>Stanford Sentiment Treebank</td>\n",
              "      <td>Predict the sentiment of a givensentence</td>\n",
              "      <td>67k</td>\n",
              "      <td>accuracy</td>\n",
              "    </tr>\n",
              "    <tr>\n",
              "      <th>mrpc</th>\n",
              "      <td>Microsoft Research Paraphrase Corpus</td>\n",
              "      <td>Determine whether the sentences in the pair are semantically equivalent</td>\n",
              "      <td>3.7k</td>\n",
              "      <td>f1/accuracy</td>\n",
              "    </tr>\n",
              "    <tr>\n",
              "      <th>stsb</th>\n",
              "      <td>Semantic Textual Similarity Benchmark</td>\n",
              "      <td>Determine similarity score for 2 sentences</td>\n",
              "      <td>7k</td>\n",
              "      <td>pearsonr/spearmanr</td>\n",
              "    </tr>\n",
              "    <tr>\n",
              "      <th>qqp</th>\n",
              "      <td>Quora question pair</td>\n",
              "      <td>Determine if 2 questions are the same (paraphrase)</td>\n",
              "      <td>364k</td>\n",
              "      <td>f1/accuracy</td>\n",
              "    </tr>\n",
              "    <tr>\n",
              "      <th>mnli</th>\n",
              "      <td>Mulit-Genre Natural Language Inference</td>\n",
              "      <td>Predict whether the premise entails, contradicts or is neutral to the hypothesis</td>\n",
              "      <td>393k</td>\n",
              "      <td>accuracy</td>\n",
              "    </tr>\n",
              "    <tr>\n",
              "      <th>qnli</th>\n",
              "      <td>Stanford Question Answering Dataset</td>\n",
              "      <td>Determine whether the context sentence containsthe answer to the question</td>\n",
              "      <td>105k</td>\n",
              "      <td>accuracy</td>\n",
              "    </tr>\n",
              "    <tr>\n",
              "      <th>rte</th>\n",
              "      <td>Recognize Textual Entailment</td>\n",
              "      <td>Determine whether one sentece entails another</td>\n",
              "      <td>2.5k</td>\n",
              "      <td>accuracy</td>\n",
              "    </tr>\n",
              "    <tr>\n",
              "      <th>wnli</th>\n",
              "      <td>Winograd Schema Challenge</td>\n",
              "      <td>Predict if the sentence with the pronoun substituted is entailed by the original sentence</td>\n",
              "      <td>634</td>\n",
              "      <td>accuracy</td>\n",
              "    </tr>\n",
              "  </tbody>\n",
              "</table>"
            ]
          },
          "metadata": {}
        }
      ],
      "source": [
        "#hide_input\n",
        "abreviations=[\"cola\",\"sst2\",\"mrpc\",\"stsb\",\"qqp\",\"mnli\",\"qnli\",\"rte\",\"wnli\"]\n",
        "name = [\n",
        "    \"Corpus of Linguistic Acceptability\",\n",
        "    \"Stanford Sentiment Treebank\",\n",
        "    \"Microsoft Research Paraphrase Corpus\",\n",
        "    \"Semantic Textual Similarity Benchmark\",\n",
        "    \"Quora question pair\",\n",
        "    \"Mulit-Genre Natural Language Inference\",\n",
        "    \"Stanford Question Answering Dataset\",\n",
        "    \"Recognize Textual Entailment\",\n",
        "    \"Winograd Schema Challenge\"\n",
        "]\n",
        "descriptions = [\n",
        "    \"Determine whether it is a grammatical sentence\",\n",
        "    \"Predict the sentiment of a givensentence\",\n",
        "    \"Determine whether the sentences in the pair are semantically equivalent\",\n",
        "    \"Determine similarity score for 2 sentences\",\n",
        "    \"Determine if 2 questions are the same (paraphrase)\",\n",
        "    \"Predict whether the premise entails, contradicts or is neutral to the hypothesis\",\n",
        "    \"Determine whether the context sentence containsthe answer to the question\",\n",
        "    \"Determine whether one sentece entails another\",\n",
        "    \"Predict if the sentence with the pronoun substituted is entailed by the original sentence\"\n",
        "]\n",
        "df = pd.DataFrame({'Name':name,\n",
        "                   'Task description':descriptions,\n",
        "                   'Size':['8.5k','67k','3.7k','7k','364k','393k','105k','2.5k', '634'],\n",
        "                   'Metrics':['matthews_corrcoef','accuracy','f1/accuracy','pearsonr/spearmanr',\n",
        "                              'f1/accuracy','accuracy','accuracy','accuracy','accuracy']},\n",
        "                   index=abreviations)\n",
        "display_df(df)"
      ]
    },
    {
      "cell_type": "markdown",
      "metadata": {
        "id": "0Ot3Xe7d1YCS"
      },
      "source": [
        "Let's define main settings for the run in one place. You can choose any model from wide variety presented in HuggingFace model hub. Some might need special treatment to work but most models of appropriate class should be plug-and-play."
      ]
    },
    {
      "cell_type": "code",
      "execution_count": 12,
      "metadata": {
        "id": "Nq_DZ64E1YCS"
      },
      "outputs": [],
      "source": [
        "ds_name = 'glue'\n",
        "model_name = \"distilroberta-base\"\n",
        "\n",
        "max_len = 512\n",
        "bs = 32\n",
        "val_bs = bs*2\n",
        "\n",
        "n_epoch = 4\n",
        "lr = 2e-5\n",
        "opt_func = Adam"
      ]
    },
    {
      "cell_type": "markdown",
      "metadata": {
        "id": "JGThdvx_1YCS"
      },
      "source": [
        "To make switching between datasets smooth I'll define couple of dictionaries containing per-task information. We'll need metrics, text fields to retrieve data and number of outputs for the model."
      ]
    },
    {
      "cell_type": "code",
      "execution_count": 13,
      "metadata": {
        "id": "Mnrc7yXn1YCT"
      },
      "outputs": [],
      "source": [
        "GLUE_TASKS = [\"cola\", \"mnli\", \"mrpc\", \"qnli\", \"qqp\", \"rte\", \"sst2\", \"stsb\", \"wnli\"]\n",
        "def validate_task():\n",
        "    assert task in GLUE_TASKS"
      ]
    },
    {
      "cell_type": "code",
      "execution_count": 14,
      "metadata": {
        "id": "hhwVbBN01YCT"
      },
      "outputs": [],
      "source": [
        "glue_metrics = {\n",
        "    'cola':[MatthewsCorrCoef()],\n",
        "    'sst2':[accuracy],\n",
        "    'mrpc':[F1Score(), accuracy],\n",
        "    'stsb':[PearsonCorrCoef(), SpearmanCorrCoef()],\n",
        "    'qqp' :[F1Score(), accuracy],\n",
        "    'mnli':[accuracy],\n",
        "    'qnli':[accuracy],\n",
        "    'rte' :[accuracy],\n",
        "    'wnli':[accuracy],\n",
        "}\n",
        "\n",
        "glue_textfields = {\n",
        "    'cola':['sentence', None],\n",
        "    'sst2':['sentence', None],\n",
        "    'mrpc':['sentence1', 'sentence2'],\n",
        "    'stsb':['sentence1', 'sentence2'],\n",
        "    'qqp' :['question1', 'question2'],\n",
        "    'mnli':['premise', 'hypothesis'],\n",
        "    'qnli':['question', 'sentence'],\n",
        "    'rte' :['sentence1', 'sentence2'],\n",
        "    'wnli':['sentence1', 'sentence2'],\n",
        "}\n",
        "\n",
        "glue_num_labels = {'mnli':3, 'stsb':1}"
      ]
    },
    {
      "cell_type": "markdown",
      "metadata": {
        "id": "mVNqFUBl1YCT"
      },
      "source": [
        "## Data preprocessing"
      ]
    },
    {
      "cell_type": "markdown",
      "metadata": {
        "id": "rG-mSWST1YCU"
      },
      "source": [
        "We'll be using `datasets` library for HuggingFace to get data:"
      ]
    },
    {
      "cell_type": "code",
      "execution_count": 15,
      "metadata": {
        "id": "ddNxssWv1YCU",
        "outputId": "ee895b9a-9668-4c0d-cf6b-abf427c31029",
        "colab": {
          "base_uri": "https://localhost:8080/",
          "height": 316,
          "referenced_widgets": [
            "5035b21a4ec6421b91c21010bb7ead17",
            "d97e4c808f3a4d6289654010f8a509de",
            "6f181c466ec640a2847139c841d2a969",
            "56d2cf0232104c3b8b34c89be1ca4dfe",
            "ad6db6be9bbe40128d7d87a73ba04553",
            "f8c5e48125b34ce0820ca2e99f5d90be",
            "0a860bb1ba364bf28d0a44acf866e799",
            "76151a387b984af79ab8ef1a3c32f8dc",
            "68b2737f11e2477d9df3b94d846a629e",
            "3b198f96680a44c2b141023ebf65bb65",
            "4dc4d7bb0c3c44d589591a2ca29f0658",
            "10b9c2f36dd748f5ab6e10cbf880cb64",
            "e436c42f66e5462dbe8fa538cb079beb",
            "009fc434409f474881805de0ad0678c8",
            "50ae24485a364d5f93df17581c82f727",
            "b317eec8e40544b7aaf2eddf0458f84a",
            "635093e8225f450c94181c2c1750cb76",
            "ff99203be2df40fa92cd2cd08f47482f",
            "1e6bf5690d904edfa11da0effa3c771d",
            "2f4b2d8f6c8948a9a969c3354862b6af",
            "6a3259f1c76e4e32a119bf18f79c5055",
            "ee970688ebbf4979b4313aaa9c29587b",
            "0e9c7203ae174f37aa02fcc95bdd889b",
            "e8cace61b0fa455684edd7d68ae3942b",
            "e971057e548b4ffa989d9431a286c067",
            "f289d2366a244452a7d0664f885ed43a",
            "87e384f8eec84e6ea1b719632b2fcea7",
            "a71c006434d04365a4a80c69b33e1d39",
            "86b45960992a411fb55850e8eca2a1d9",
            "b9c098c3741f4f869697ca8746f16021",
            "17517f1f642347328c1ad61e62c1b8c4",
            "8581a4ef3ca848a881145046859ba602",
            "587f0ed605df4562b02df681ec145be9",
            "0e6988bb75654f23b4951f75fed55bc9",
            "5d26744a7b944afda4b80bfd072d8d2b",
            "2966171e5502400aa5c3c144bd48efdc",
            "f41e2dd2e4cf4d1794b14722e9a9e0ad",
            "34f0d2423804442c8d5f637efd9988e6",
            "26c6aa416d804271a4acfc7642fe0a7e",
            "23bcf88294624557ae37991af2d1085a",
            "ae2f34613aa241b8a42d193eba36cc82",
            "d5ecf30d211940cebef7bc6e1ee3e78d",
            "91c957d9a44d4489b914192480a07b79",
            "2cc0504473e446cbb5657453b578b861",
            "9828ecbe775b48249bcdc32a1dfb5b39",
            "cc0401d78a71413fb11e987531e60be0",
            "8d8f3266a90441b4801d88a8c2382eaf",
            "c8c7d3d5ffe247eea90b5d14a3c8b0f5",
            "13d1cee55dbd46de9fa4b8dbfac312dd",
            "40b91f7cc61a44ed9c0f209f0b1df8b6",
            "a1d7a9fcf75f445fa18e35e2c0eb42b8",
            "4de6e7422ebb44b280e4801840e1e864",
            "18d6a16d3b91464baaa8f0522b12f8b0",
            "3e5ace5ac5784c50a02071723dbed4a8",
            "02d2eb5d64f7439c859ccf4857a70d51",
            "88b42e91202f4780a833253c104383e9",
            "0557fa5057d84cf3911e54583739899b",
            "2eefd64b89364ab3b3f5213ecd7ee4cb",
            "3b80b17c73994110a75e9256bd7d467b",
            "ccedcc674958435bacccf82c6274928e",
            "0b71073c8d9444639071c5a1ed958e29",
            "f2b5519dca4f473699046c10bf6228f2",
            "74ae27ec947a4f17a16e7b40b41205dd",
            "2579ef2a9ebb4a7ea30bdfc2c9bc01a2"
          ]
        }
      },
      "outputs": [
        {
          "output_type": "display_data",
          "data": {
            "text/plain": [
              "HBox(children=(FloatProgress(value=0.0, description='Downloading', max=7777.0, style=ProgressStyle(description…"
            ],
            "application/vnd.jupyter.widget-view+json": {
              "version_major": 2,
              "version_minor": 0,
              "model_id": "5035b21a4ec6421b91c21010bb7ead17"
            }
          },
          "metadata": {}
        },
        {
          "output_type": "stream",
          "name": "stdout",
          "text": [
            "\n"
          ]
        },
        {
          "output_type": "display_data",
          "data": {
            "text/plain": [
              "HBox(children=(FloatProgress(value=0.0, description='Downloading', max=4473.0, style=ProgressStyle(description…"
            ],
            "application/vnd.jupyter.widget-view+json": {
              "version_major": 2,
              "version_minor": 0,
              "model_id": "68b2737f11e2477d9df3b94d846a629e"
            }
          },
          "metadata": {}
        },
        {
          "output_type": "stream",
          "name": "stdout",
          "text": [
            "\n",
            "Downloading and preparing dataset glue/mrpc (download: 1.43 MiB, generated: 1.43 MiB, post-processed: Unknown size, total: 2.85 MiB) to /root/.cache/huggingface/datasets/glue/mrpc/1.0.0/dacbe3125aa31d7f70367a07a8a9e72a5a0bfeb5fc42e75c9db75b96da6053ad...\n"
          ]
        },
        {
          "output_type": "display_data",
          "data": {
            "text/plain": [
              "HBox(children=(FloatProgress(value=1.0, bar_style='info', description='Downloading', layout=Layout(width='20px…"
            ],
            "application/vnd.jupyter.widget-view+json": {
              "version_major": 2,
              "version_minor": 0,
              "model_id": "635093e8225f450c94181c2c1750cb76"
            }
          },
          "metadata": {}
        },
        {
          "output_type": "stream",
          "name": "stdout",
          "text": [
            "\n"
          ]
        },
        {
          "output_type": "display_data",
          "data": {
            "text/plain": [
              "HBox(children=(FloatProgress(value=1.0, bar_style='info', description='Downloading', layout=Layout(width='20px…"
            ],
            "application/vnd.jupyter.widget-view+json": {
              "version_major": 2,
              "version_minor": 0,
              "model_id": "e971057e548b4ffa989d9431a286c067"
            }
          },
          "metadata": {}
        },
        {
          "output_type": "stream",
          "name": "stdout",
          "text": [
            "\n"
          ]
        },
        {
          "output_type": "display_data",
          "data": {
            "text/plain": [
              "HBox(children=(FloatProgress(value=1.0, bar_style='info', description='Downloading', layout=Layout(width='20px…"
            ],
            "application/vnd.jupyter.widget-view+json": {
              "version_major": 2,
              "version_minor": 0,
              "model_id": "587f0ed605df4562b02df681ec145be9"
            }
          },
          "metadata": {}
        },
        {
          "output_type": "stream",
          "name": "stdout",
          "text": [
            "\n"
          ]
        },
        {
          "output_type": "display_data",
          "data": {
            "text/plain": [
              "HBox(children=(FloatProgress(value=1.0, bar_style='info', layout=Layout(width='20px'), max=1.0), HTML(value=''…"
            ],
            "application/vnd.jupyter.widget-view+json": {
              "version_major": 2,
              "version_minor": 0,
              "model_id": "ae2f34613aa241b8a42d193eba36cc82"
            }
          },
          "metadata": {}
        },
        {
          "output_type": "display_data",
          "data": {
            "text/plain": [
              "HBox(children=(FloatProgress(value=1.0, bar_style='info', layout=Layout(width='20px'), max=1.0), HTML(value=''…"
            ],
            "application/vnd.jupyter.widget-view+json": {
              "version_major": 2,
              "version_minor": 0,
              "model_id": "13d1cee55dbd46de9fa4b8dbfac312dd"
            }
          },
          "metadata": {}
        },
        {
          "output_type": "display_data",
          "data": {
            "text/plain": [
              "HBox(children=(FloatProgress(value=1.0, bar_style='info', layout=Layout(width='20px'), max=1.0), HTML(value=''…"
            ],
            "application/vnd.jupyter.widget-view+json": {
              "version_major": 2,
              "version_minor": 0,
              "model_id": "0557fa5057d84cf3911e54583739899b"
            }
          },
          "metadata": {}
        },
        {
          "output_type": "stream",
          "name": "stdout",
          "text": [
            "Dataset glue downloaded and prepared to /root/.cache/huggingface/datasets/glue/mrpc/1.0.0/dacbe3125aa31d7f70367a07a8a9e72a5a0bfeb5fc42e75c9db75b96da6053ad. Subsequent calls will reuse this data.\n"
          ]
        }
      ],
      "source": [
        "task = 'mrpc'; validate_task()\n",
        "ds = load_dataset(ds_name, task)"
      ]
    },
    {
      "cell_type": "code",
      "source": [
        "ds"
      ],
      "metadata": {
        "id": "FSyfeaE14vYP",
        "outputId": "abbb9d48-2857-4cd3-c77b-5775a7863cb7",
        "colab": {
          "base_uri": "https://localhost:8080/"
        }
      },
      "execution_count": 40,
      "outputs": [
        {
          "output_type": "execute_result",
          "data": {
            "text/plain": [
              "DatasetDict({\n",
              "    train: Dataset({\n",
              "        features: ['sentence1', 'sentence2', 'label', 'idx'],\n",
              "        num_rows: 3668\n",
              "    })\n",
              "    validation: Dataset({\n",
              "        features: ['sentence1', 'sentence2', 'label', 'idx'],\n",
              "        num_rows: 408\n",
              "    })\n",
              "    test: Dataset({\n",
              "        features: ['sentence1', 'sentence2', 'label', 'idx'],\n",
              "        num_rows: 1725\n",
              "    })\n",
              "})"
            ]
          },
          "metadata": {},
          "execution_count": 40
        }
      ]
    },
    {
      "cell_type": "code",
      "source": [
        "# DatasetDict(\n",
        "#     {\n",
        "#     'train' : Dataset.from_pandas(train),\n",
        "#     'test' : Dataset.from_pandas(test),\n",
        "#     'valid' : Dataset.from_pandas(valid)\n",
        "#     }\n",
        "# )"
      ],
      "metadata": {
        "id": "JdN5QKDK9M_K",
        "outputId": "18016cde-d546-4d6f-9231-d99d0220b106",
        "colab": {
          "base_uri": "https://localhost:8080/"
        }
      },
      "execution_count": 102,
      "outputs": [
        {
          "output_type": "execute_result",
          "data": {
            "text/plain": [
              "DatasetDict({\n",
              "    train: Dataset({\n",
              "        features: ['sentence1', 'sentence2', 'label', 'idx'],\n",
              "        num_rows: 1440\n",
              "    })\n",
              "    test: Dataset({\n",
              "        features: ['sentence1', 'sentence2', 'label', 'idx'],\n",
              "        num_rows: 400\n",
              "    })\n",
              "    valid: Dataset({\n",
              "        features: ['sentence1', 'sentence2', 'label', 'idx'],\n",
              "        num_rows: 160\n",
              "    })\n",
              "})"
            ]
          },
          "metadata": {},
          "execution_count": 102
        }
      ]
    },
    {
      "cell_type": "code",
      "source": [
        "ds['test'][0]"
      ],
      "metadata": {
        "id": "tYuS28BI7Di8",
        "outputId": "c521d0b9-0434-4712-8d96-3c83993c1b73",
        "colab": {
          "base_uri": "https://localhost:8080/"
        }
      },
      "execution_count": 52,
      "outputs": [
        {
          "output_type": "execute_result",
          "data": {
            "text/plain": [
              "{'idx': 0,\n",
              " 'label': 1,\n",
              " 'sentence1': \"PCCW 's chief operating officer , Mike Butcher , and Alex Arena , the chief financial officer , will report directly to Mr So .\",\n",
              " 'sentence2': 'Current Chief Operating Officer Mike Butcher and Group Chief Financial Officer Alex Arena will report to So .'}"
            ]
          },
          "metadata": {},
          "execution_count": 52
        }
      ]
    },
    {
      "cell_type": "code",
      "source": [
        "\n",
        "upload_data = pd.read_excel('/content/sampled_combined_news_aggr_dataset.xlsx')\n"
      ],
      "metadata": {
        "id": "maCfD8xe5DYC"
      },
      "execution_count": 73,
      "outputs": []
    },
    {
      "cell_type": "code",
      "source": [
        "upload_data = upload_data.groupby('label').sample(1000)"
      ],
      "metadata": {
        "id": "A4mG5BhN75Io"
      },
      "execution_count": 74,
      "outputs": []
    },
    {
      "cell_type": "code",
      "source": [
        "upload_data.drop(columns=['STORY_1', 'STORY_2'], inplace=True)"
      ],
      "metadata": {
        "id": "HHYFTeIC570i"
      },
      "execution_count": 75,
      "outputs": []
    },
    {
      "cell_type": "code",
      "source": [
        "upload_data.rename(columns = {'TITLE_1': 'sentence1','TITLE_2': 'sentence2'}, inplace=True)"
      ],
      "metadata": {
        "id": "-BPMI7rW6Hpl"
      },
      "execution_count": 76,
      "outputs": []
    },
    {
      "cell_type": "code",
      "source": [
        "upload_data.head()"
      ],
      "metadata": {
        "id": "VSJXxLA26trf",
        "outputId": "03e32b4c-b171-42f1-9c53-11c36a0bf571",
        "colab": {
          "base_uri": "https://localhost:8080/",
          "height": 204
        }
      },
      "execution_count": 77,
      "outputs": [
        {
          "output_type": "execute_result",
          "data": {
            "text/plain": [
              "                                                               sentence1  \\\n",
              "2901                       US stocks open lower on gloomy news from Asia   \n",
              "21879                              The 10 Best Stocks of the Bull Market   \n",
              "28283                                                      Inside Mt Gox   \n",
              "59634                      Report: Mt. Gox CEO Holding 'Stolen' Bitcoins   \n",
              "30957  Chiquita, Fyffes Agree to $1.07 Billion Merger Deal -- 3rd Update   \n",
              "\n",
              "                                                                        sentence2  \\\n",
              "2901                        Americans are taking public transit in record numbers   \n",
              "21879  US stock market trading lower as investors weigh discouraging news on  ...   \n",
              "28283  JetBlue Airways Corp. Receives Average Rating of “Hold” from Analysts  ...   \n",
              "59634                                        Oil falls below US$108 on China data   \n",
              "30957               Americans make most journeys on public transport for 50 years   \n",
              "\n",
              "       label  \n",
              "2901       0  \n",
              "21879      0  \n",
              "28283      0  \n",
              "59634      0  \n",
              "30957      0  "
            ],
            "text/html": [
              "\n",
              "  <div id=\"df-b5a6dfda-6a0b-4e91-9474-7e36e102fd77\">\n",
              "    <div class=\"colab-df-container\">\n",
              "      <div>\n",
              "<style scoped>\n",
              "    .dataframe tbody tr th:only-of-type {\n",
              "        vertical-align: middle;\n",
              "    }\n",
              "\n",
              "    .dataframe tbody tr th {\n",
              "        vertical-align: top;\n",
              "    }\n",
              "\n",
              "    .dataframe thead th {\n",
              "        text-align: right;\n",
              "    }\n",
              "</style>\n",
              "<table border=\"1\" class=\"dataframe\">\n",
              "  <thead>\n",
              "    <tr style=\"text-align: right;\">\n",
              "      <th></th>\n",
              "      <th>sentence1</th>\n",
              "      <th>sentence2</th>\n",
              "      <th>label</th>\n",
              "    </tr>\n",
              "  </thead>\n",
              "  <tbody>\n",
              "    <tr>\n",
              "      <th>2901</th>\n",
              "      <td>US stocks open lower on gloomy news from Asia</td>\n",
              "      <td>Americans are taking public transit in record numbers</td>\n",
              "      <td>0</td>\n",
              "    </tr>\n",
              "    <tr>\n",
              "      <th>21879</th>\n",
              "      <td>The 10 Best Stocks of the Bull Market</td>\n",
              "      <td>US stock market trading lower as investors weigh discouraging news on  ...</td>\n",
              "      <td>0</td>\n",
              "    </tr>\n",
              "    <tr>\n",
              "      <th>28283</th>\n",
              "      <td>Inside Mt Gox</td>\n",
              "      <td>JetBlue Airways Corp. Receives Average Rating of “Hold” from Analysts  ...</td>\n",
              "      <td>0</td>\n",
              "    </tr>\n",
              "    <tr>\n",
              "      <th>59634</th>\n",
              "      <td>Report: Mt. Gox CEO Holding 'Stolen' Bitcoins</td>\n",
              "      <td>Oil falls below US$108 on China data</td>\n",
              "      <td>0</td>\n",
              "    </tr>\n",
              "    <tr>\n",
              "      <th>30957</th>\n",
              "      <td>Chiquita, Fyffes Agree to $1.07 Billion Merger Deal -- 3rd Update</td>\n",
              "      <td>Americans make most journeys on public transport for 50 years</td>\n",
              "      <td>0</td>\n",
              "    </tr>\n",
              "  </tbody>\n",
              "</table>\n",
              "</div>\n",
              "      <button class=\"colab-df-convert\" onclick=\"convertToInteractive('df-b5a6dfda-6a0b-4e91-9474-7e36e102fd77')\"\n",
              "              title=\"Convert this dataframe to an interactive table.\"\n",
              "              style=\"display:none;\">\n",
              "        \n",
              "  <svg xmlns=\"http://www.w3.org/2000/svg\" height=\"24px\"viewBox=\"0 0 24 24\"\n",
              "       width=\"24px\">\n",
              "    <path d=\"M0 0h24v24H0V0z\" fill=\"none\"/>\n",
              "    <path d=\"M18.56 5.44l.94 2.06.94-2.06 2.06-.94-2.06-.94-.94-2.06-.94 2.06-2.06.94zm-11 1L8.5 8.5l.94-2.06 2.06-.94-2.06-.94L8.5 2.5l-.94 2.06-2.06.94zm10 10l.94 2.06.94-2.06 2.06-.94-2.06-.94-.94-2.06-.94 2.06-2.06.94z\"/><path d=\"M17.41 7.96l-1.37-1.37c-.4-.4-.92-.59-1.43-.59-.52 0-1.04.2-1.43.59L10.3 9.45l-7.72 7.72c-.78.78-.78 2.05 0 2.83L4 21.41c.39.39.9.59 1.41.59.51 0 1.02-.2 1.41-.59l7.78-7.78 2.81-2.81c.8-.78.8-2.07 0-2.86zM5.41 20L4 18.59l7.72-7.72 1.47 1.35L5.41 20z\"/>\n",
              "  </svg>\n",
              "      </button>\n",
              "      \n",
              "  <style>\n",
              "    .colab-df-container {\n",
              "      display:flex;\n",
              "      flex-wrap:wrap;\n",
              "      gap: 12px;\n",
              "    }\n",
              "\n",
              "    .colab-df-convert {\n",
              "      background-color: #E8F0FE;\n",
              "      border: none;\n",
              "      border-radius: 50%;\n",
              "      cursor: pointer;\n",
              "      display: none;\n",
              "      fill: #1967D2;\n",
              "      height: 32px;\n",
              "      padding: 0 0 0 0;\n",
              "      width: 32px;\n",
              "    }\n",
              "\n",
              "    .colab-df-convert:hover {\n",
              "      background-color: #E2EBFA;\n",
              "      box-shadow: 0px 1px 2px rgba(60, 64, 67, 0.3), 0px 1px 3px 1px rgba(60, 64, 67, 0.15);\n",
              "      fill: #174EA6;\n",
              "    }\n",
              "\n",
              "    [theme=dark] .colab-df-convert {\n",
              "      background-color: #3B4455;\n",
              "      fill: #D2E3FC;\n",
              "    }\n",
              "\n",
              "    [theme=dark] .colab-df-convert:hover {\n",
              "      background-color: #434B5C;\n",
              "      box-shadow: 0px 1px 3px 1px rgba(0, 0, 0, 0.15);\n",
              "      filter: drop-shadow(0px 1px 2px rgba(0, 0, 0, 0.3));\n",
              "      fill: #FFFFFF;\n",
              "    }\n",
              "  </style>\n",
              "\n",
              "      <script>\n",
              "        const buttonEl =\n",
              "          document.querySelector('#df-b5a6dfda-6a0b-4e91-9474-7e36e102fd77 button.colab-df-convert');\n",
              "        buttonEl.style.display =\n",
              "          google.colab.kernel.accessAllowed ? 'block' : 'none';\n",
              "\n",
              "        async function convertToInteractive(key) {\n",
              "          const element = document.querySelector('#df-b5a6dfda-6a0b-4e91-9474-7e36e102fd77');\n",
              "          const dataTable =\n",
              "            await google.colab.kernel.invokeFunction('convertToInteractive',\n",
              "                                                     [key], {});\n",
              "          if (!dataTable) return;\n",
              "\n",
              "          const docLinkHtml = 'Like what you see? Visit the ' +\n",
              "            '<a target=\"_blank\" href=https://colab.research.google.com/notebooks/data_table.ipynb>data table notebook</a>'\n",
              "            + ' to learn more about interactive tables.';\n",
              "          element.innerHTML = '';\n",
              "          dataTable['output_type'] = 'display_data';\n",
              "          await google.colab.output.renderOutput(dataTable, element);\n",
              "          const docLink = document.createElement('div');\n",
              "          docLink.innerHTML = docLinkHtml;\n",
              "          element.appendChild(docLink);\n",
              "        }\n",
              "      </script>\n",
              "    </div>\n",
              "  </div>\n",
              "  "
            ]
          },
          "metadata": {},
          "execution_count": 77
        }
      ]
    },
    {
      "cell_type": "code",
      "source": [
        "train, test = train_test_split(upload_data, test_size=0.2)\n",
        "train, valid = train_test_split(train, test_size=0.1)"
      ],
      "metadata": {
        "id": "XDt8OjAz5k9j"
      },
      "execution_count": 96,
      "outputs": []
    },
    {
      "cell_type": "code",
      "source": [
        "train.reset_index(drop=True, inplace=True)\n",
        "test.reset_index(drop=True, inplace=True)\n",
        "valid.reset_index(drop=True, inplace=True)"
      ],
      "metadata": {
        "id": "4s6MH2x652t-"
      },
      "execution_count": 97,
      "outputs": []
    },
    {
      "cell_type": "code",
      "source": [
        "train['idx'] = train.index\n",
        "valid['idx'] = valid.index\n",
        "test['idx'] = test.index"
      ],
      "metadata": {
        "id": "t75hek8989j5"
      },
      "execution_count": 98,
      "outputs": []
    },
    {
      "cell_type": "code",
      "source": [
        "train.head()"
      ],
      "metadata": {
        "id": "hRxeyZzs8ZV5",
        "outputId": "8ff9bd9d-cb15-4397-e598-86aa3a7f9124",
        "colab": {
          "base_uri": "https://localhost:8080/",
          "height": 204
        }
      },
      "execution_count": 99,
      "outputs": [
        {
          "output_type": "execute_result",
          "data": {
            "text/plain": [
              "                                                                             sentence1  \\\n",
              "0        Report: Mt. Gox was hit 150K times per second during DDoS attack before theft   \n",
              "1  Markets: Ireland's Fyffes to merge with Chiquita of original 'Banana Republic' fame   \n",
              "2                            Sterling at one-month low as ECB policy stance lifts euro   \n",
              "3       McDonald's Reports a 0.3 Percent Drop in February Sales, U.S. Down 1.4 percent   \n",
              "4                        Public Transit Use In U.S. Is At a 57-Year High, Report Finds   \n",
              "\n",
              "                                                         sentence2  label  idx  \n",
              "0  American Airlines, JetBlue Ending Itinerary Extension Agreement      0    0  \n",
              "1     Chiquita and Fyffes to create world's leading banana company      1    1  \n",
              "2    American Airlines, JetBlue end reciprocal frequent-flier deal      0    2  \n",
              "3          ECB's Christian Noyer says 'not happy' with euro's rise      0    3  \n",
              "4                                              Banking on Bitcoins      0    4  "
            ],
            "text/html": [
              "\n",
              "  <div id=\"df-0bd4f599-95df-4995-9f84-54d35b2bc8da\">\n",
              "    <div class=\"colab-df-container\">\n",
              "      <div>\n",
              "<style scoped>\n",
              "    .dataframe tbody tr th:only-of-type {\n",
              "        vertical-align: middle;\n",
              "    }\n",
              "\n",
              "    .dataframe tbody tr th {\n",
              "        vertical-align: top;\n",
              "    }\n",
              "\n",
              "    .dataframe thead th {\n",
              "        text-align: right;\n",
              "    }\n",
              "</style>\n",
              "<table border=\"1\" class=\"dataframe\">\n",
              "  <thead>\n",
              "    <tr style=\"text-align: right;\">\n",
              "      <th></th>\n",
              "      <th>sentence1</th>\n",
              "      <th>sentence2</th>\n",
              "      <th>label</th>\n",
              "      <th>idx</th>\n",
              "    </tr>\n",
              "  </thead>\n",
              "  <tbody>\n",
              "    <tr>\n",
              "      <th>0</th>\n",
              "      <td>Report: Mt. Gox was hit 150K times per second during DDoS attack before theft</td>\n",
              "      <td>American Airlines, JetBlue Ending Itinerary Extension Agreement</td>\n",
              "      <td>0</td>\n",
              "      <td>0</td>\n",
              "    </tr>\n",
              "    <tr>\n",
              "      <th>1</th>\n",
              "      <td>Markets: Ireland's Fyffes to merge with Chiquita of original 'Banana Republic' fame</td>\n",
              "      <td>Chiquita and Fyffes to create world's leading banana company</td>\n",
              "      <td>1</td>\n",
              "      <td>1</td>\n",
              "    </tr>\n",
              "    <tr>\n",
              "      <th>2</th>\n",
              "      <td>Sterling at one-month low as ECB policy stance lifts euro</td>\n",
              "      <td>American Airlines, JetBlue end reciprocal frequent-flier deal</td>\n",
              "      <td>0</td>\n",
              "      <td>2</td>\n",
              "    </tr>\n",
              "    <tr>\n",
              "      <th>3</th>\n",
              "      <td>McDonald's Reports a 0.3 Percent Drop in February Sales, U.S. Down 1.4 percent</td>\n",
              "      <td>ECB's Christian Noyer says 'not happy' with euro's rise</td>\n",
              "      <td>0</td>\n",
              "      <td>3</td>\n",
              "    </tr>\n",
              "    <tr>\n",
              "      <th>4</th>\n",
              "      <td>Public Transit Use In U.S. Is At a 57-Year High, Report Finds</td>\n",
              "      <td>Banking on Bitcoins</td>\n",
              "      <td>0</td>\n",
              "      <td>4</td>\n",
              "    </tr>\n",
              "  </tbody>\n",
              "</table>\n",
              "</div>\n",
              "      <button class=\"colab-df-convert\" onclick=\"convertToInteractive('df-0bd4f599-95df-4995-9f84-54d35b2bc8da')\"\n",
              "              title=\"Convert this dataframe to an interactive table.\"\n",
              "              style=\"display:none;\">\n",
              "        \n",
              "  <svg xmlns=\"http://www.w3.org/2000/svg\" height=\"24px\"viewBox=\"0 0 24 24\"\n",
              "       width=\"24px\">\n",
              "    <path d=\"M0 0h24v24H0V0z\" fill=\"none\"/>\n",
              "    <path d=\"M18.56 5.44l.94 2.06.94-2.06 2.06-.94-2.06-.94-.94-2.06-.94 2.06-2.06.94zm-11 1L8.5 8.5l.94-2.06 2.06-.94-2.06-.94L8.5 2.5l-.94 2.06-2.06.94zm10 10l.94 2.06.94-2.06 2.06-.94-2.06-.94-.94-2.06-.94 2.06-2.06.94z\"/><path d=\"M17.41 7.96l-1.37-1.37c-.4-.4-.92-.59-1.43-.59-.52 0-1.04.2-1.43.59L10.3 9.45l-7.72 7.72c-.78.78-.78 2.05 0 2.83L4 21.41c.39.39.9.59 1.41.59.51 0 1.02-.2 1.41-.59l7.78-7.78 2.81-2.81c.8-.78.8-2.07 0-2.86zM5.41 20L4 18.59l7.72-7.72 1.47 1.35L5.41 20z\"/>\n",
              "  </svg>\n",
              "      </button>\n",
              "      \n",
              "  <style>\n",
              "    .colab-df-container {\n",
              "      display:flex;\n",
              "      flex-wrap:wrap;\n",
              "      gap: 12px;\n",
              "    }\n",
              "\n",
              "    .colab-df-convert {\n",
              "      background-color: #E8F0FE;\n",
              "      border: none;\n",
              "      border-radius: 50%;\n",
              "      cursor: pointer;\n",
              "      display: none;\n",
              "      fill: #1967D2;\n",
              "      height: 32px;\n",
              "      padding: 0 0 0 0;\n",
              "      width: 32px;\n",
              "    }\n",
              "\n",
              "    .colab-df-convert:hover {\n",
              "      background-color: #E2EBFA;\n",
              "      box-shadow: 0px 1px 2px rgba(60, 64, 67, 0.3), 0px 1px 3px 1px rgba(60, 64, 67, 0.15);\n",
              "      fill: #174EA6;\n",
              "    }\n",
              "\n",
              "    [theme=dark] .colab-df-convert {\n",
              "      background-color: #3B4455;\n",
              "      fill: #D2E3FC;\n",
              "    }\n",
              "\n",
              "    [theme=dark] .colab-df-convert:hover {\n",
              "      background-color: #434B5C;\n",
              "      box-shadow: 0px 1px 3px 1px rgba(0, 0, 0, 0.15);\n",
              "      filter: drop-shadow(0px 1px 2px rgba(0, 0, 0, 0.3));\n",
              "      fill: #FFFFFF;\n",
              "    }\n",
              "  </style>\n",
              "\n",
              "      <script>\n",
              "        const buttonEl =\n",
              "          document.querySelector('#df-0bd4f599-95df-4995-9f84-54d35b2bc8da button.colab-df-convert');\n",
              "        buttonEl.style.display =\n",
              "          google.colab.kernel.accessAllowed ? 'block' : 'none';\n",
              "\n",
              "        async function convertToInteractive(key) {\n",
              "          const element = document.querySelector('#df-0bd4f599-95df-4995-9f84-54d35b2bc8da');\n",
              "          const dataTable =\n",
              "            await google.colab.kernel.invokeFunction('convertToInteractive',\n",
              "                                                     [key], {});\n",
              "          if (!dataTable) return;\n",
              "\n",
              "          const docLinkHtml = 'Like what you see? Visit the ' +\n",
              "            '<a target=\"_blank\" href=https://colab.research.google.com/notebooks/data_table.ipynb>data table notebook</a>'\n",
              "            + ' to learn more about interactive tables.';\n",
              "          element.innerHTML = '';\n",
              "          dataTable['output_type'] = 'display_data';\n",
              "          await google.colab.output.renderOutput(dataTable, element);\n",
              "          const docLink = document.createElement('div');\n",
              "          docLink.innerHTML = docLinkHtml;\n",
              "          element.appendChild(docLink);\n",
              "        }\n",
              "      </script>\n",
              "    </div>\n",
              "  </div>\n",
              "  "
            ]
          },
          "metadata": {},
          "execution_count": 99
        }
      ]
    },
    {
      "cell_type": "code",
      "source": [
        "test.head()"
      ],
      "metadata": {
        "id": "ODbHpg6w82Wr",
        "outputId": "0652c240-5ac0-48bc-ca72-799cd84c9a06",
        "colab": {
          "base_uri": "https://localhost:8080/",
          "height": 204
        }
      },
      "execution_count": 100,
      "outputs": [
        {
          "output_type": "execute_result",
          "data": {
            "text/plain": [
              "                                          sentence1  \\\n",
              "0   Hackers Claim Mt. Gox Still Sitting On Bitcoins   \n",
              "1                Chiquita Brands To Buy Irish Rival   \n",
              "2            Hackers hit web accounts of MtGox boss   \n",
              "3        German reliance on Russian gas is a threat   \n",
              "4  Australian Bitcoin traders burnt in Mt.Gox crash   \n",
              "\n",
              "                                                                           sentence2  \\\n",
              "0                                     So Where Are Mt Gox's Stolen Bitcoin Millions?   \n",
              "1  The Big Banana merger might be more about melons, pineapples and Irish taxes  ...   \n",
              "2                                     RPT-Mt. Gox files for US bankruptcy protection   \n",
              "3                                      Sbarro Files For Second Bankruptcy Protection   \n",
              "4                                             MTA Worker Killed by Hudson Line Train   \n",
              "\n",
              "   label  idx  \n",
              "0      1    0  \n",
              "1      1    1  \n",
              "2      1    2  \n",
              "3      0    3  \n",
              "4      0    4  "
            ],
            "text/html": [
              "\n",
              "  <div id=\"df-6e20ce1e-295f-4158-b76f-b36c87046bf8\">\n",
              "    <div class=\"colab-df-container\">\n",
              "      <div>\n",
              "<style scoped>\n",
              "    .dataframe tbody tr th:only-of-type {\n",
              "        vertical-align: middle;\n",
              "    }\n",
              "\n",
              "    .dataframe tbody tr th {\n",
              "        vertical-align: top;\n",
              "    }\n",
              "\n",
              "    .dataframe thead th {\n",
              "        text-align: right;\n",
              "    }\n",
              "</style>\n",
              "<table border=\"1\" class=\"dataframe\">\n",
              "  <thead>\n",
              "    <tr style=\"text-align: right;\">\n",
              "      <th></th>\n",
              "      <th>sentence1</th>\n",
              "      <th>sentence2</th>\n",
              "      <th>label</th>\n",
              "      <th>idx</th>\n",
              "    </tr>\n",
              "  </thead>\n",
              "  <tbody>\n",
              "    <tr>\n",
              "      <th>0</th>\n",
              "      <td>Hackers Claim Mt. Gox Still Sitting On Bitcoins</td>\n",
              "      <td>So Where Are Mt Gox's Stolen Bitcoin Millions?</td>\n",
              "      <td>1</td>\n",
              "      <td>0</td>\n",
              "    </tr>\n",
              "    <tr>\n",
              "      <th>1</th>\n",
              "      <td>Chiquita Brands To Buy Irish Rival</td>\n",
              "      <td>The Big Banana merger might be more about melons, pineapples and Irish taxes  ...</td>\n",
              "      <td>1</td>\n",
              "      <td>1</td>\n",
              "    </tr>\n",
              "    <tr>\n",
              "      <th>2</th>\n",
              "      <td>Hackers hit web accounts of MtGox boss</td>\n",
              "      <td>RPT-Mt. Gox files for US bankruptcy protection</td>\n",
              "      <td>1</td>\n",
              "      <td>2</td>\n",
              "    </tr>\n",
              "    <tr>\n",
              "      <th>3</th>\n",
              "      <td>German reliance on Russian gas is a threat</td>\n",
              "      <td>Sbarro Files For Second Bankruptcy Protection</td>\n",
              "      <td>0</td>\n",
              "      <td>3</td>\n",
              "    </tr>\n",
              "    <tr>\n",
              "      <th>4</th>\n",
              "      <td>Australian Bitcoin traders burnt in Mt.Gox crash</td>\n",
              "      <td>MTA Worker Killed by Hudson Line Train</td>\n",
              "      <td>0</td>\n",
              "      <td>4</td>\n",
              "    </tr>\n",
              "  </tbody>\n",
              "</table>\n",
              "</div>\n",
              "      <button class=\"colab-df-convert\" onclick=\"convertToInteractive('df-6e20ce1e-295f-4158-b76f-b36c87046bf8')\"\n",
              "              title=\"Convert this dataframe to an interactive table.\"\n",
              "              style=\"display:none;\">\n",
              "        \n",
              "  <svg xmlns=\"http://www.w3.org/2000/svg\" height=\"24px\"viewBox=\"0 0 24 24\"\n",
              "       width=\"24px\">\n",
              "    <path d=\"M0 0h24v24H0V0z\" fill=\"none\"/>\n",
              "    <path d=\"M18.56 5.44l.94 2.06.94-2.06 2.06-.94-2.06-.94-.94-2.06-.94 2.06-2.06.94zm-11 1L8.5 8.5l.94-2.06 2.06-.94-2.06-.94L8.5 2.5l-.94 2.06-2.06.94zm10 10l.94 2.06.94-2.06 2.06-.94-2.06-.94-.94-2.06-.94 2.06-2.06.94z\"/><path d=\"M17.41 7.96l-1.37-1.37c-.4-.4-.92-.59-1.43-.59-.52 0-1.04.2-1.43.59L10.3 9.45l-7.72 7.72c-.78.78-.78 2.05 0 2.83L4 21.41c.39.39.9.59 1.41.59.51 0 1.02-.2 1.41-.59l7.78-7.78 2.81-2.81c.8-.78.8-2.07 0-2.86zM5.41 20L4 18.59l7.72-7.72 1.47 1.35L5.41 20z\"/>\n",
              "  </svg>\n",
              "      </button>\n",
              "      \n",
              "  <style>\n",
              "    .colab-df-container {\n",
              "      display:flex;\n",
              "      flex-wrap:wrap;\n",
              "      gap: 12px;\n",
              "    }\n",
              "\n",
              "    .colab-df-convert {\n",
              "      background-color: #E8F0FE;\n",
              "      border: none;\n",
              "      border-radius: 50%;\n",
              "      cursor: pointer;\n",
              "      display: none;\n",
              "      fill: #1967D2;\n",
              "      height: 32px;\n",
              "      padding: 0 0 0 0;\n",
              "      width: 32px;\n",
              "    }\n",
              "\n",
              "    .colab-df-convert:hover {\n",
              "      background-color: #E2EBFA;\n",
              "      box-shadow: 0px 1px 2px rgba(60, 64, 67, 0.3), 0px 1px 3px 1px rgba(60, 64, 67, 0.15);\n",
              "      fill: #174EA6;\n",
              "    }\n",
              "\n",
              "    [theme=dark] .colab-df-convert {\n",
              "      background-color: #3B4455;\n",
              "      fill: #D2E3FC;\n",
              "    }\n",
              "\n",
              "    [theme=dark] .colab-df-convert:hover {\n",
              "      background-color: #434B5C;\n",
              "      box-shadow: 0px 1px 3px 1px rgba(0, 0, 0, 0.15);\n",
              "      filter: drop-shadow(0px 1px 2px rgba(0, 0, 0, 0.3));\n",
              "      fill: #FFFFFF;\n",
              "    }\n",
              "  </style>\n",
              "\n",
              "      <script>\n",
              "        const buttonEl =\n",
              "          document.querySelector('#df-6e20ce1e-295f-4158-b76f-b36c87046bf8 button.colab-df-convert');\n",
              "        buttonEl.style.display =\n",
              "          google.colab.kernel.accessAllowed ? 'block' : 'none';\n",
              "\n",
              "        async function convertToInteractive(key) {\n",
              "          const element = document.querySelector('#df-6e20ce1e-295f-4158-b76f-b36c87046bf8');\n",
              "          const dataTable =\n",
              "            await google.colab.kernel.invokeFunction('convertToInteractive',\n",
              "                                                     [key], {});\n",
              "          if (!dataTable) return;\n",
              "\n",
              "          const docLinkHtml = 'Like what you see? Visit the ' +\n",
              "            '<a target=\"_blank\" href=https://colab.research.google.com/notebooks/data_table.ipynb>data table notebook</a>'\n",
              "            + ' to learn more about interactive tables.';\n",
              "          element.innerHTML = '';\n",
              "          dataTable['output_type'] = 'display_data';\n",
              "          await google.colab.output.renderOutput(dataTable, element);\n",
              "          const docLink = document.createElement('div');\n",
              "          docLink.innerHTML = docLinkHtml;\n",
              "          element.appendChild(docLink);\n",
              "        }\n",
              "      </script>\n",
              "    </div>\n",
              "  </div>\n",
              "  "
            ]
          },
          "metadata": {},
          "execution_count": 100
        }
      ]
    },
    {
      "cell_type": "code",
      "source": [
        "valid.head()"
      ],
      "metadata": {
        "id": "4RuN6Ium85cm",
        "outputId": "e8e1e9be-a4cf-403b-a3d9-b7e3ef412e83",
        "colab": {
          "base_uri": "https://localhost:8080/",
          "height": 204
        }
      },
      "execution_count": 101,
      "outputs": [
        {
          "output_type": "execute_result",
          "data": {
            "text/plain": [
              "                                                                        sentence1  \\\n",
              "0                               Stock futures fall on discouraging news from Asia   \n",
              "1                          Metro-North Worker Killed, Struck By Harlem Line Train   \n",
              "2                              ECB's Noyer not Happy With Euro Strength -- Update   \n",
              "3                                                 Monday Afternoon Business Brief   \n",
              "4  Reuters: Germany's dependence on Russian gas poses risks for Europe, says  ...   \n",
              "\n",
              "                                                                         sentence2  \\\n",
              "0                                  Ukraine Rattles Europe's Still-Fragile Recovery   \n",
              "1                             MtGox faced 150k DDoS attacks per second says report   \n",
              "2                                  Capitalism Will Prevent a Cold War Over Ukraine   \n",
              "3  Chrysler Recalls 25000 Vehicles, Loosening Russia's Energy Grip, Fyffes to  ...   \n",
              "4                        Central Europeans want US gas to cut dependence on Russia   \n",
              "\n",
              "   label  idx  \n",
              "0      0    0  \n",
              "1      0    1  \n",
              "2      0    2  \n",
              "3      1    3  \n",
              "4      1    4  "
            ],
            "text/html": [
              "\n",
              "  <div id=\"df-05cc91f3-f531-4179-b102-9319ebe20196\">\n",
              "    <div class=\"colab-df-container\">\n",
              "      <div>\n",
              "<style scoped>\n",
              "    .dataframe tbody tr th:only-of-type {\n",
              "        vertical-align: middle;\n",
              "    }\n",
              "\n",
              "    .dataframe tbody tr th {\n",
              "        vertical-align: top;\n",
              "    }\n",
              "\n",
              "    .dataframe thead th {\n",
              "        text-align: right;\n",
              "    }\n",
              "</style>\n",
              "<table border=\"1\" class=\"dataframe\">\n",
              "  <thead>\n",
              "    <tr style=\"text-align: right;\">\n",
              "      <th></th>\n",
              "      <th>sentence1</th>\n",
              "      <th>sentence2</th>\n",
              "      <th>label</th>\n",
              "      <th>idx</th>\n",
              "    </tr>\n",
              "  </thead>\n",
              "  <tbody>\n",
              "    <tr>\n",
              "      <th>0</th>\n",
              "      <td>Stock futures fall on discouraging news from Asia</td>\n",
              "      <td>Ukraine Rattles Europe's Still-Fragile Recovery</td>\n",
              "      <td>0</td>\n",
              "      <td>0</td>\n",
              "    </tr>\n",
              "    <tr>\n",
              "      <th>1</th>\n",
              "      <td>Metro-North Worker Killed, Struck By Harlem Line Train</td>\n",
              "      <td>MtGox faced 150k DDoS attacks per second says report</td>\n",
              "      <td>0</td>\n",
              "      <td>1</td>\n",
              "    </tr>\n",
              "    <tr>\n",
              "      <th>2</th>\n",
              "      <td>ECB's Noyer not Happy With Euro Strength -- Update</td>\n",
              "      <td>Capitalism Will Prevent a Cold War Over Ukraine</td>\n",
              "      <td>0</td>\n",
              "      <td>2</td>\n",
              "    </tr>\n",
              "    <tr>\n",
              "      <th>3</th>\n",
              "      <td>Monday Afternoon Business Brief</td>\n",
              "      <td>Chrysler Recalls 25000 Vehicles, Loosening Russia's Energy Grip, Fyffes to  ...</td>\n",
              "      <td>1</td>\n",
              "      <td>3</td>\n",
              "    </tr>\n",
              "    <tr>\n",
              "      <th>4</th>\n",
              "      <td>Reuters: Germany's dependence on Russian gas poses risks for Europe, says  ...</td>\n",
              "      <td>Central Europeans want US gas to cut dependence on Russia</td>\n",
              "      <td>1</td>\n",
              "      <td>4</td>\n",
              "    </tr>\n",
              "  </tbody>\n",
              "</table>\n",
              "</div>\n",
              "      <button class=\"colab-df-convert\" onclick=\"convertToInteractive('df-05cc91f3-f531-4179-b102-9319ebe20196')\"\n",
              "              title=\"Convert this dataframe to an interactive table.\"\n",
              "              style=\"display:none;\">\n",
              "        \n",
              "  <svg xmlns=\"http://www.w3.org/2000/svg\" height=\"24px\"viewBox=\"0 0 24 24\"\n",
              "       width=\"24px\">\n",
              "    <path d=\"M0 0h24v24H0V0z\" fill=\"none\"/>\n",
              "    <path d=\"M18.56 5.44l.94 2.06.94-2.06 2.06-.94-2.06-.94-.94-2.06-.94 2.06-2.06.94zm-11 1L8.5 8.5l.94-2.06 2.06-.94-2.06-.94L8.5 2.5l-.94 2.06-2.06.94zm10 10l.94 2.06.94-2.06 2.06-.94-2.06-.94-.94-2.06-.94 2.06-2.06.94z\"/><path d=\"M17.41 7.96l-1.37-1.37c-.4-.4-.92-.59-1.43-.59-.52 0-1.04.2-1.43.59L10.3 9.45l-7.72 7.72c-.78.78-.78 2.05 0 2.83L4 21.41c.39.39.9.59 1.41.59.51 0 1.02-.2 1.41-.59l7.78-7.78 2.81-2.81c.8-.78.8-2.07 0-2.86zM5.41 20L4 18.59l7.72-7.72 1.47 1.35L5.41 20z\"/>\n",
              "  </svg>\n",
              "      </button>\n",
              "      \n",
              "  <style>\n",
              "    .colab-df-container {\n",
              "      display:flex;\n",
              "      flex-wrap:wrap;\n",
              "      gap: 12px;\n",
              "    }\n",
              "\n",
              "    .colab-df-convert {\n",
              "      background-color: #E8F0FE;\n",
              "      border: none;\n",
              "      border-radius: 50%;\n",
              "      cursor: pointer;\n",
              "      display: none;\n",
              "      fill: #1967D2;\n",
              "      height: 32px;\n",
              "      padding: 0 0 0 0;\n",
              "      width: 32px;\n",
              "    }\n",
              "\n",
              "    .colab-df-convert:hover {\n",
              "      background-color: #E2EBFA;\n",
              "      box-shadow: 0px 1px 2px rgba(60, 64, 67, 0.3), 0px 1px 3px 1px rgba(60, 64, 67, 0.15);\n",
              "      fill: #174EA6;\n",
              "    }\n",
              "\n",
              "    [theme=dark] .colab-df-convert {\n",
              "      background-color: #3B4455;\n",
              "      fill: #D2E3FC;\n",
              "    }\n",
              "\n",
              "    [theme=dark] .colab-df-convert:hover {\n",
              "      background-color: #434B5C;\n",
              "      box-shadow: 0px 1px 3px 1px rgba(0, 0, 0, 0.15);\n",
              "      filter: drop-shadow(0px 1px 2px rgba(0, 0, 0, 0.3));\n",
              "      fill: #FFFFFF;\n",
              "    }\n",
              "  </style>\n",
              "\n",
              "      <script>\n",
              "        const buttonEl =\n",
              "          document.querySelector('#df-05cc91f3-f531-4179-b102-9319ebe20196 button.colab-df-convert');\n",
              "        buttonEl.style.display =\n",
              "          google.colab.kernel.accessAllowed ? 'block' : 'none';\n",
              "\n",
              "        async function convertToInteractive(key) {\n",
              "          const element = document.querySelector('#df-05cc91f3-f531-4179-b102-9319ebe20196');\n",
              "          const dataTable =\n",
              "            await google.colab.kernel.invokeFunction('convertToInteractive',\n",
              "                                                     [key], {});\n",
              "          if (!dataTable) return;\n",
              "\n",
              "          const docLinkHtml = 'Like what you see? Visit the ' +\n",
              "            '<a target=\"_blank\" href=https://colab.research.google.com/notebooks/data_table.ipynb>data table notebook</a>'\n",
              "            + ' to learn more about interactive tables.';\n",
              "          element.innerHTML = '';\n",
              "          dataTable['output_type'] = 'display_data';\n",
              "          await google.colab.output.renderOutput(dataTable, element);\n",
              "          const docLink = document.createElement('div');\n",
              "          docLink.innerHTML = docLinkHtml;\n",
              "          element.appendChild(docLink);\n",
              "        }\n",
              "      </script>\n",
              "    </div>\n",
              "  </div>\n",
              "  "
            ]
          },
          "metadata": {},
          "execution_count": 101
        }
      ]
    },
    {
      "cell_type": "code",
      "source": [
        "ds = DatasetDict(\n",
        "    {\n",
        "    'train' : Dataset.from_pandas(train),\n",
        "    'test' : Dataset.from_pandas(test),\n",
        "    'validation' : Dataset.from_pandas(valid)\n",
        "    }\n",
        ")"
      ],
      "metadata": {
        "id": "slnuq7nC-83o"
      },
      "execution_count": 107,
      "outputs": []
    },
    {
      "cell_type": "markdown",
      "metadata": {
        "id": "ovtzWRp71YCV"
      },
      "source": [
        "MNLI datasets contains 2 sets for validation: matched and missmatched. The mathced set is selected here for validation when fine-tuning on MNLI."
      ]
    },
    {
      "cell_type": "code",
      "execution_count": 108,
      "metadata": {
        "id": "_liou6-D1YCV",
        "outputId": "661e5826-8823-48e1-f153-b398508dbf51",
        "colab": {
          "base_uri": "https://localhost:8080/"
        }
      },
      "outputs": [
        {
          "output_type": "execute_result",
          "data": {
            "text/plain": [
              "(1440, 160)"
            ]
          },
          "metadata": {},
          "execution_count": 108
        }
      ],
      "source": [
        "valid_ = 'validation-matched' if task=='mnli' else 'validation'\n",
        "len(ds['train']), len(ds[valid_])"
      ]
    },
    {
      "cell_type": "code",
      "execution_count": 109,
      "metadata": {
        "id": "bE4R-jC51YCV"
      },
      "outputs": [],
      "source": [
        "nt, nv = len(ds['train']), len(ds[valid_])\n",
        "train_idx, valid_idx = L(range(nt)), L(range(nt, nt+nv))\n",
        "train_ds = concatenate_datasets([ds['train'], ds[valid_]])"
      ]
    },
    {
      "cell_type": "markdown",
      "metadata": {
        "id": "oy0I2ydx1YCW"
      },
      "source": [
        "One can inspect single example for the given task:"
      ]
    },
    {
      "cell_type": "code",
      "execution_count": 110,
      "metadata": {
        "id": "YXltH3QL1YCW",
        "outputId": "4f820bf5-5ff7-4bd2-a36e-7bfc79a13a24",
        "colab": {
          "base_uri": "https://localhost:8080/"
        }
      },
      "outputs": [
        {
          "output_type": "execute_result",
          "data": {
            "text/plain": [
              "{'sentence1': 'Report: Mt. Gox was hit 150K times per second during DDoS attack before theft',\n",
              " 'sentence2': 'American Airlines, JetBlue Ending Itinerary Extension Agreement',\n",
              " 'label': 0,\n",
              " 'idx': 0}"
            ]
          },
          "metadata": {},
          "execution_count": 110
        }
      ],
      "source": [
        "train_ds[0]"
      ]
    },
    {
      "cell_type": "markdown",
      "metadata": {
        "id": "MmNz7RAE1YCW"
      },
      "source": [
        "Here I use number of characters a proxy for length of tokenized text to speed up `dls` creation."
      ]
    },
    {
      "cell_type": "code",
      "execution_count": 111,
      "metadata": {
        "id": "GOK-ZXbU1YCW",
        "outputId": "49306c85-db26-44f8-99d7-1c476c5a3913",
        "colab": {
          "base_uri": "https://localhost:8080/",
          "height": 51
        }
      },
      "outputs": [
        {
          "output_type": "stream",
          "name": "stdout",
          "text": [
            "\n",
            "\n"
          ]
        }
      ],
      "source": [
        "#hide_output\n",
        "lens = train_ds.map(lambda s: {'len': sum([len(s[i]) for i in glue_textfields[task] if i])},\n",
        "                    remove_columns=train_ds.column_names, num_proc=2, keep_in_memory=True)\n",
        "train_lens = lens.select(train_idx)['len']\n",
        "valid_lens = lens.select(valid_idx)['len']"
      ]
    },
    {
      "cell_type": "markdown",
      "metadata": {
        "id": "H0HYLb071YCX"
      },
      "source": [
        "## DataBlock and Transforms"
      ]
    },
    {
      "cell_type": "markdown",
      "metadata": {
        "id": "ek1Zgw0I1YCX"
      },
      "source": [
        "`TextGetter` is analogous to `ItemGetter` but retrieves either one or two text fields from the source (e.g. \"sentence1\" and \"sentence2\")."
      ]
    },
    {
      "cell_type": "code",
      "execution_count": 112,
      "metadata": {
        "id": "xI4tlC_S1YCX"
      },
      "outputs": [],
      "source": [
        "class TextGetter(ItemTransform):\n",
        "    def __init__(self, s1='text', s2=None):\n",
        "        self.s1, self.s2 = s1, s2\n",
        "    def encodes(self, sample):\n",
        "        if self.s2 is None: return sample[self.s1]\n",
        "        else: return sample[self.s1], sample[self.s2]"
      ]
    },
    {
      "cell_type": "markdown",
      "metadata": {
        "id": "_l4tp_YP1YCX"
      },
      "source": [
        "Transformers expect two parts of text to be concatenated with some `SEP` token in between. But when displaying the batch it's better to have those texts in separate columns for better readability. To make it work I define a version of `show_batch` to be dispatched on the `TransTensorText` class. It will handle cases when there is single decoded text or a tuple of two texts."
      ]
    },
    {
      "cell_type": "code",
      "execution_count": 113,
      "metadata": {
        "id": "185Vob0Q1YCY"
      },
      "outputs": [],
      "source": [
        "class TransTensorText(TensorBase): pass\n",
        "\n",
        "@typedispatch\n",
        "def show_batch(x:TransTensorText, y, samples, ctxs=None, max_n=10, trunc_at=150, **kwargs):\n",
        "    if ctxs is None: ctxs = get_empty_df(min(len(samples), max_n))\n",
        "    if isinstance(samples[0][0], tuple):\n",
        "        samples = L((*s[0], *s[1:]) for s in samples)\n",
        "        if trunc_at is not None: samples = L((s[0].truncate(trunc_at), s[1].truncate(trunc_at), *s[2:]) for s in samples)\n",
        "    if trunc_at is not None: samples = L((s[0].truncate(trunc_at),*s[1:]) for s in samples)\n",
        "    ctxs = show_batch[object](x, y, samples, max_n=max_n, ctxs=ctxs, **kwargs)\n",
        "    display_df(pd.DataFrame(ctxs))"
      ]
    },
    {
      "cell_type": "code",
      "execution_count": 114,
      "metadata": {
        "id": "vFeTvff51YCY"
      },
      "outputs": [],
      "source": [
        "#collapse\n",
        "def find_first(t, e):\n",
        "    for i, v in enumerate(t):\n",
        "        if v == e: return i\n",
        "        \n",
        "def split_by_sep(t, sep_tok_id):\n",
        "    idx = find_first(t, sep_tok_id)\n",
        "    return t[:idx], t[idx:]"
      ]
    },
    {
      "cell_type": "markdown",
      "metadata": {
        "id": "ayQMMMJS1YCY"
      },
      "source": [
        "Tokenization of the inputs will be done by `TokBatchTransform` which wraps pre-trained HuggingFace tokenizer. The text processing is done in batches for speed-up. We want to awoid explicit python loops when possible."
      ]
    },
    {
      "cell_type": "code",
      "execution_count": 115,
      "metadata": {
        "id": "IkeHKjqx1YCY"
      },
      "outputs": [],
      "source": [
        "class TokBatchTransform(Transform):\n",
        "    \"\"\"\n",
        "    Tokenizes texts in batches using pretrained HuggingFace tokenizer.\n",
        "    The first element in a batch can be single string or 2-tuple of strings.\n",
        "    If `with_labels=True` the \"labels\" are added to the output dictionary.\n",
        "    \"\"\"\n",
        "    def __init__(self, pretrained_model_name=None, tokenizer_cls=AutoTokenizer, \n",
        "                 config=None, tokenizer=None, with_labels=False,\n",
        "                 padding=True, truncation=True, max_length=None, **kwargs):\n",
        "        if tokenizer is None:\n",
        "            tokenizer = tokenizer_cls.from_pretrained(pretrained_model_name, config=config)\n",
        "        self.tokenizer = tokenizer\n",
        "        self.kwargs = kwargs\n",
        "        self._two_texts = False\n",
        "        store_attr()\n",
        "    \n",
        "    def encodes(self, batch):\n",
        "        # batch is a list of tuples of ({text or (text1, text2)}, {targets...})\n",
        "        if is_listy(batch[0][0]): # 1st element is tuple\n",
        "            self._two_texts = True\n",
        "            texts = ([s[0][0] for s in batch], [s[0][1] for s in batch])\n",
        "        elif is_listy(batch[0]): \n",
        "            texts = ([s[0] for s in batch],)\n",
        "\n",
        "        inps = self.tokenizer(*texts,\n",
        "                              add_special_tokens=True,\n",
        "                              padding=self.padding,\n",
        "                              truncation=self.truncation,\n",
        "                              max_length=self.max_length,\n",
        "                              return_tensors='pt',\n",
        "                              **self.kwargs)\n",
        "        # inps are batched, collate targets into batches too\n",
        "        labels = default_collate([s[1:] for s in batch])\n",
        "        if self.with_labels:\n",
        "            inps['labels'] = labels[0]\n",
        "            res = (inps, )\n",
        "        else:\n",
        "            res = (inps, ) + tuple(labels)\n",
        "        return res\n",
        "    \n",
        "    def decodes(self, x:TransTensorText):\n",
        "        if self._two_texts:\n",
        "            x1, x2 = split_by_sep(x, self.tokenizer.sep_token_id)\n",
        "            return (TitledStr(self.tokenizer.decode(x1.cpu(), skip_special_tokens=True)),\n",
        "                    TitledStr(self.tokenizer.decode(x2.cpu(), skip_special_tokens=True)))\n",
        "        return TitledStr(self.tokenizer.decode(x.cpu(), skip_special_tokens=True))"
      ]
    },
    {
      "cell_type": "markdown",
      "metadata": {
        "id": "9Ja_s2Fs1YCZ"
      },
      "source": [
        "The batches processed by `TokBatchTransform` contain a dictionary as the first element. For decoding it's handy to have a tensor instead. The `Undict` transform fethces `input_ids` from the batch and creates `TransTensorText` which should work with typedispatch."
      ]
    },
    {
      "cell_type": "code",
      "execution_count": 116,
      "metadata": {
        "id": "JSVYXXYA1YCZ"
      },
      "outputs": [],
      "source": [
        "class Undict(Transform):\n",
        "    def decodes(self, x:dict):\n",
        "        if 'input_ids' in x: res = TransTensorText(x['input_ids'])\n",
        "        return res"
      ]
    },
    {
      "cell_type": "markdown",
      "metadata": {
        "id": "dwIx04pa1YCa"
      },
      "source": [
        "Now the transforms are to be combined inside a data block to be used for `dls` creation. The inputs are prebatched by `TokBatchTranform` so we don't need to use `fa_collate` for batching, so `fa_convert` is passed in as for \"create_batch\".\n",
        "\n",
        "The texts we processing are of different lengths. Each sample in the batch is padded to the length of longest input to make them \"collatable\". Shuffling samples randomly will therefor result in getting longer batches on average. As the compute time depends on the sequence length this is udesired. `SortedDL` groups the inputs by length and if `shuffle=True` those are shuffled within certain interval keeping samples of similar length together."
      ]
    },
    {
      "cell_type": "code",
      "execution_count": 117,
      "metadata": {
        "id": "nJb8gU6c1YCa"
      },
      "outputs": [],
      "source": [
        "dls_kwargs = {\n",
        "    'before_batch': TokBatchTransform(pretrained_model_name=model_name, max_length=max_len),\n",
        "    'create_batch': fa_convert\n",
        "}\n",
        "text_block = TransformBlock(dl_type=SortedDL, dls_kwargs=dls_kwargs, batch_tfms=Undict(), )\n",
        "\n",
        "dblock = DataBlock(blocks = [text_block, CategoryBlock()],\n",
        "                   get_x=TextGetter(*glue_textfields[task]),\n",
        "                   get_y=ItemGetter('label'),\n",
        "                   splitter=IndexSplitter(valid_idx))"
      ]
    },
    {
      "cell_type": "code",
      "execution_count": 118,
      "metadata": {
        "id": "zKzgTlhw1YCb",
        "outputId": "68272b2d-b98f-4617-9a87-b87632c08075",
        "colab": {
          "base_uri": "https://localhost:8080/"
        }
      },
      "outputs": [
        {
          "output_type": "stream",
          "name": "stdout",
          "text": [
            "CPU times: user 245 ms, sys: 1.92 ms, total: 247 ms\n",
            "Wall time: 247 ms\n"
          ]
        }
      ],
      "source": [
        "%%time\n",
        "dl_kwargs=[{'res':train_lens}, {'val_res':valid_lens}]\n",
        "dls = dblock.dataloaders(train_ds, bs=bs, val_bs=val_bs, dl_kwargs=dl_kwargs)"
      ]
    },
    {
      "cell_type": "code",
      "execution_count": 119,
      "metadata": {
        "id": "Dn4LIp6p1YCc",
        "outputId": "e9782fcd-6326-4042-ad2e-d763adfcd94a",
        "colab": {
          "base_uri": "https://localhost:8080/",
          "height": 173
        }
      },
      "outputs": [
        {
          "output_type": "display_data",
          "data": {
            "text/plain": [
              "<IPython.core.display.HTML object>"
            ],
            "text/html": [
              "<table border=\"1\" class=\"dataframe\">\n",
              "  <thead>\n",
              "    <tr style=\"text-align: right;\">\n",
              "      <th></th>\n",
              "      <th>text</th>\n",
              "      <th>text_</th>\n",
              "      <th>category</th>\n",
              "    </tr>\n",
              "  </thead>\n",
              "  <tbody>\n",
              "    <tr>\n",
              "      <th>0</th>\n",
              "      <td>Journal says: The first default in China's corporate-bond market is unlikely to be ...</td>\n",
              "      <td>'Titanfall' Release Date Nears: Twitter Predicts It Will Outsell 'Battlefield 4', Will ...</td>\n",
              "      <td>0</td>\n",
              "    </tr>\n",
              "    <tr>\n",
              "      <th>1</th>\n",
              "      <td>Is spitting in TriMet driver's face 'assault'? Union wants hostile riders taken more ...</td>\n",
              "      <td>Pollen and birds chirping? Check and check. Here are 5 ways to tell that spring's ...</td>\n",
              "      <td>1</td>\n",
              "    </tr>\n",
              "    <tr>\n",
              "      <th>2</th>\n",
              "      <td>Titanfall ships at 792p on Xbox One, post-release resolution 'likely to increase'</td>\n",
              "      <td>'Titanfall' Release Date Nears: Twitter Predicts It Will Outsell 'Battlefield 4', Will ...</td>\n",
              "      <td>1</td>\n",
              "    </tr>\n",
              "    <tr>\n",
              "      <th>3</th>\n",
              "      <td>American Airlines (AAL) Load Factor Fell 0.3 Points in Feb.; Affirms Q1 PRASM ...</td>\n",
              "      <td>Markets: Ireland's Fyffes to merge with Chiquita of original 'Banana Republic' fame</td>\n",
              "      <td>0</td>\n",
              "    </tr>\n",
              "  </tbody>\n",
              "</table>"
            ]
          },
          "metadata": {}
        }
      ],
      "source": [
        "dls.show_batch(max_n=4)"
      ]
    },
    {
      "cell_type": "markdown",
      "metadata": {
        "id": "Fmfti7q_1YCc"
      },
      "source": [
        "## Customized Learner"
      ]
    },
    {
      "cell_type": "markdown",
      "metadata": {
        "id": "XZSDUpgX1YCd"
      },
      "source": [
        "Now the `xb` we get from dataloader contains a dictionary and HuggingFace transformers accept keyword argument as input. But fastai `Learner` feeds the model with a sequence of positional arguments (`self.pred = self.model(*self.xb)`). To make this work smoothly we can create a callback to handle unrolling of the input dict into proper `xb` tuple.\n",
        "\n",
        "But first we need to define some utility functions. `default_splitter` is used to divide model parameters into groups:"
      ]
    },
    {
      "cell_type": "code",
      "execution_count": 120,
      "metadata": {
        "id": "BXixlhE41YCd"
      },
      "outputs": [],
      "source": [
        "def default_splitter(model):\n",
        "    groups = L(model.base_model.children()) + L(m for m in list(model.children())[1:] if params(m))\n",
        "    return groups.map(params)"
      ]
    },
    {
      "cell_type": "markdown",
      "metadata": {
        "id": "z1K4jfUD1YCd"
      },
      "source": [
        "Similar to `show_batch` one have to customize `show_results`:"
      ]
    },
    {
      "cell_type": "code",
      "execution_count": 121,
      "metadata": {
        "id": "ATOw3rV01YCd"
      },
      "outputs": [],
      "source": [
        "@typedispatch\n",
        "def show_results(x: TransTensorText, y, samples, outs, ctxs=None, max_n=10, trunc_at=150, **kwargs):\n",
        "    if ctxs is None: ctxs = get_empty_df(min(len(samples), max_n))\n",
        "    if isinstance(samples[0][0], tuple):\n",
        "        samples = L((*s[0], *s[1:]) for s in samples)\n",
        "        if trunc_at is not None: samples = L((s[0].truncate(trunc_at), s[1].truncate(trunc_at), *s[2:]) for s in samples)\n",
        "    elif trunc_at is not None: samples = L((s[0].truncate(trunc_at),*s[1:]) for s in samples)\n",
        "    ctxs = show_results[object](x, y, samples, outs, ctxs=ctxs, max_n=max_n, **kwargs)\n",
        "    display_df(pd.DataFrame(ctxs))\n",
        "    return ctxs"
      ]
    },
    {
      "cell_type": "markdown",
      "metadata": {
        "id": "gDhHSc9h1YCe"
      },
      "source": [
        "`TransLearner` itself doesn't do much: it adds `TransCallback` and sets `splitter` to be `default_splitter` if `None` is provided."
      ]
    },
    {
      "cell_type": "code",
      "execution_count": 122,
      "metadata": {
        "id": "lAG2r8Lj1YCe"
      },
      "outputs": [],
      "source": [
        "@delegates(Learner.__init__)\n",
        "class TransLearner(Learner):\n",
        "    \"Learner for training transformers from HuggingFace\"\n",
        "    def __init__(self, dls, model, **kwargs):\n",
        "        splitter = kwargs.get('splitter', None)\n",
        "        if splitter is None: kwargs['splitter'] = default_splitter\n",
        "        super().__init__(dls, model, **kwargs)\n",
        "        self.add_cb(TransCallback(model))"
      ]
    },
    {
      "cell_type": "markdown",
      "metadata": {
        "id": "Te6k0Foz1YCf"
      },
      "source": [
        "Main piece of work needed to train transformers model happens in `TransCallback`. It saves valid model argument and makes input dict yielded by dataloader into a tuple.\n",
        "\n",
        "By default the model returns a dictionary-like object containing `logits` and possibly other outputs as defined by model config (e.g. intermediate hidden representations). In the fastai training loop we usually expect `preds` to be a tensor containing model predictions (logits). The callback formats the preds properly.\n",
        "\n",
        "Notice that if `labels` are found in the input, transformer models compute the `loss` and return it together with output `logits`. The callback below is designed to utilise the loss returned by model instead of recomputing it using `learn.loss_func`. This is not actually used in this example but might be handy in some use cases."
      ]
    },
    {
      "cell_type": "code",
      "execution_count": 123,
      "metadata": {
        "id": "XTzRwuce1YCf"
      },
      "outputs": [],
      "source": [
        "class TransCallback(Callback):\n",
        "    \"Handles HuggingFace model inputs and outputs\"\n",
        "    \n",
        "    def __init__(self, model):\n",
        "        self.labels = tuple()\n",
        "        self.model_args = {k:v.default for k, v in signature(model.forward).parameters.items()}\n",
        "    \n",
        "    def before_batch(self):\n",
        "        if 'labels' in self.xb[0].keys():\n",
        "            self.labels = (self.xb[0]['labels'], )\n",
        "        # make a tuple containing an element for each argument model excepts\n",
        "        # if argument is not in xb it is set to default value\n",
        "        self.learn.xb = tuple([self.xb[0].get(k, self.model_args[k]) for k in self.model_args.keys()])\n",
        "    \n",
        "    def after_pred(self):\n",
        "        if 'loss' in self.pred:\n",
        "            self.learn.loss_grad = self.pred.loss\n",
        "            self.learn.loss = self.pred.loss.clone()\n",
        "        self.learn.pred = self.pred.logits\n",
        "    \n",
        "    def after_loss(self):\n",
        "        if len(self.labels):\n",
        "            self.learn.yb = self.labels\n",
        "            self.labels = tuple()"
      ]
    },
    {
      "cell_type": "markdown",
      "metadata": {
        "id": "L7fbgzCh1YCf"
      },
      "source": [
        "## Training\n",
        "\n",
        "After all the preparations the training is streightforward. Setting `num_labels` for the model and choosing apropriate metrics is automated."
      ]
    },
    {
      "cell_type": "code",
      "execution_count": 124,
      "metadata": {
        "id": "9v9WIXZa1YCf",
        "outputId": "c2877434-4062-4589-c701-d694eda96b9c",
        "colab": {
          "base_uri": "https://localhost:8080/"
        }
      },
      "outputs": [
        {
          "output_type": "stream",
          "name": "stderr",
          "text": [
            "Some weights of the model checkpoint at distilroberta-base were not used when initializing RobertaForSequenceClassification: ['lm_head.decoder.weight', 'lm_head.bias', 'lm_head.layer_norm.weight', 'lm_head.dense.bias', 'roberta.pooler.dense.bias', 'roberta.pooler.dense.weight', 'lm_head.layer_norm.bias', 'lm_head.dense.weight']\n",
            "- This IS expected if you are initializing RobertaForSequenceClassification from the checkpoint of a model trained on another task or with another architecture (e.g. initializing a BertForSequenceClassification model from a BertForPreTraining model).\n",
            "- This IS NOT expected if you are initializing RobertaForSequenceClassification from the checkpoint of a model that you expect to be exactly identical (initializing a BertForSequenceClassification model from a BertForSequenceClassification model).\n",
            "Some weights of RobertaForSequenceClassification were not initialized from the model checkpoint at distilroberta-base and are newly initialized: ['classifier.dense.weight', 'classifier.out_proj.bias', 'classifier.dense.bias', 'classifier.out_proj.weight']\n",
            "You should probably TRAIN this model on a down-stream task to be able to use it for predictions and inference.\n"
          ]
        }
      ],
      "source": [
        "#hide_output\n",
        "model = AutoModelForSequenceClassification.from_pretrained(model_name, num_labels=glue_num_labels.get(task, 2))\n",
        "metrics = glue_metrics[task]\n",
        "learn = TransLearner(dls, model, metrics=metrics, opt_func=opt_func)"
      ]
    },
    {
      "cell_type": "code",
      "execution_count": 125,
      "metadata": {
        "id": "ssDGFWMy1YCf",
        "outputId": "7ddcf0a6-cedf-4388-f75e-4b9e8915106d",
        "colab": {
          "base_uri": "https://localhost:8080/",
          "height": 1000
        }
      },
      "outputs": [
        {
          "output_type": "display_data",
          "data": {
            "text/plain": [
              "<IPython.core.display.HTML object>"
            ],
            "text/html": [
              "\n",
              "<style>\n",
              "    /* Turns off some styling */\n",
              "    progress {\n",
              "        /* gets rid of default border in Firefox and Opera. */\n",
              "        border: none;\n",
              "        /* Needs to be in here for Safari polyfill so background images work as expected. */\n",
              "        background-size: auto;\n",
              "    }\n",
              "    progress:not([value]), progress:not([value])::-webkit-progress-bar {\n",
              "        background: repeating-linear-gradient(45deg, #7e7e7e, #7e7e7e 10px, #5c5c5c 10px, #5c5c5c 20px);\n",
              "    }\n",
              "    .progress-bar-interrupted, .progress-bar-interrupted::-webkit-progress-bar {\n",
              "        background: #F44336;\n",
              "    }\n",
              "</style>\n"
            ]
          },
          "metadata": {}
        },
        {
          "output_type": "display_data",
          "data": {
            "text/plain": [
              "<IPython.core.display.HTML object>"
            ],
            "text/html": []
          },
          "metadata": {}
        },
        {
          "output_type": "execute_result",
          "data": {
            "text/plain": [
              "RobertaForSequenceClassification (Input shape: 32)\n",
              "============================================================================\n",
              "Layer (type)         Output Shape         Param #    Trainable \n",
              "============================================================================\n",
              "                     32 x 52 x 768       \n",
              "Embedding                                 38603520   True      \n",
              "Embedding                                 394752     True      \n",
              "Embedding                                 768        True      \n",
              "LayerNorm                                 1536       True      \n",
              "Dropout                                                        \n",
              "Linear                                    590592     True      \n",
              "Linear                                    590592     True      \n",
              "Linear                                    590592     True      \n",
              "Dropout                                                        \n",
              "Linear                                    590592     True      \n",
              "LayerNorm                                 1536       True      \n",
              "Dropout                                                        \n",
              "____________________________________________________________________________\n",
              "                     32 x 52 x 3072      \n",
              "Linear                                    2362368    True      \n",
              "____________________________________________________________________________\n",
              "                     32 x 52 x 768       \n",
              "Linear                                    2360064    True      \n",
              "LayerNorm                                 1536       True      \n",
              "Dropout                                                        \n",
              "Linear                                    590592     True      \n",
              "Linear                                    590592     True      \n",
              "Linear                                    590592     True      \n",
              "Dropout                                                        \n",
              "Linear                                    590592     True      \n",
              "LayerNorm                                 1536       True      \n",
              "Dropout                                                        \n",
              "____________________________________________________________________________\n",
              "                     32 x 52 x 3072      \n",
              "Linear                                    2362368    True      \n",
              "____________________________________________________________________________\n",
              "                     32 x 52 x 768       \n",
              "Linear                                    2360064    True      \n",
              "LayerNorm                                 1536       True      \n",
              "Dropout                                                        \n",
              "Linear                                    590592     True      \n",
              "Linear                                    590592     True      \n",
              "Linear                                    590592     True      \n",
              "Dropout                                                        \n",
              "Linear                                    590592     True      \n",
              "LayerNorm                                 1536       True      \n",
              "Dropout                                                        \n",
              "____________________________________________________________________________\n",
              "                     32 x 52 x 3072      \n",
              "Linear                                    2362368    True      \n",
              "____________________________________________________________________________\n",
              "                     32 x 52 x 768       \n",
              "Linear                                    2360064    True      \n",
              "LayerNorm                                 1536       True      \n",
              "Dropout                                                        \n",
              "Linear                                    590592     True      \n",
              "Linear                                    590592     True      \n",
              "Linear                                    590592     True      \n",
              "Dropout                                                        \n",
              "Linear                                    590592     True      \n",
              "LayerNorm                                 1536       True      \n",
              "Dropout                                                        \n",
              "____________________________________________________________________________\n",
              "                     32 x 52 x 3072      \n",
              "Linear                                    2362368    True      \n",
              "____________________________________________________________________________\n",
              "                     32 x 52 x 768       \n",
              "Linear                                    2360064    True      \n",
              "LayerNorm                                 1536       True      \n",
              "Dropout                                                        \n",
              "Linear                                    590592     True      \n",
              "Linear                                    590592     True      \n",
              "Linear                                    590592     True      \n",
              "Dropout                                                        \n",
              "Linear                                    590592     True      \n",
              "LayerNorm                                 1536       True      \n",
              "Dropout                                                        \n",
              "____________________________________________________________________________\n",
              "                     32 x 52 x 3072      \n",
              "Linear                                    2362368    True      \n",
              "____________________________________________________________________________\n",
              "                     32 x 52 x 768       \n",
              "Linear                                    2360064    True      \n",
              "LayerNorm                                 1536       True      \n",
              "Dropout                                                        \n",
              "Linear                                    590592     True      \n",
              "Linear                                    590592     True      \n",
              "Linear                                    590592     True      \n",
              "Dropout                                                        \n",
              "Linear                                    590592     True      \n",
              "LayerNorm                                 1536       True      \n",
              "Dropout                                                        \n",
              "____________________________________________________________________________\n",
              "                     32 x 52 x 3072      \n",
              "Linear                                    2362368    True      \n",
              "____________________________________________________________________________\n",
              "                     32 x 52 x 768       \n",
              "Linear                                    2360064    True      \n",
              "LayerNorm                                 1536       True      \n",
              "Dropout                                                        \n",
              "Linear                                    590592     True      \n",
              "Dropout                                                        \n",
              "____________________________________________________________________________\n",
              "                     32 x 2              \n",
              "Linear                                    1538       True      \n",
              "____________________________________________________________________________\n",
              "\n",
              "Total params: 82,119,938\n",
              "Total trainable params: 82,119,938\n",
              "Total non-trainable params: 0\n",
              "\n",
              "Optimizer used: <function Adam at 0x7fc302ef3820>\n",
              "Loss function: FlattenedLoss of CrossEntropyLoss()\n",
              "\n",
              "Callbacks:\n",
              "  - TrainEvalCallback\n",
              "  - TransCallback\n",
              "  - Recorder\n",
              "  - ProgressCallback"
            ],
            "application/vnd.google.colaboratory.intrinsic+json": {
              "type": "string"
            }
          },
          "metadata": {},
          "execution_count": 125
        }
      ],
      "source": [
        "#collapse_output\n",
        "learn.summary()"
      ]
    },
    {
      "cell_type": "code",
      "execution_count": 127,
      "metadata": {
        "id": "7Gv7sdpT1YCg",
        "outputId": "3ad467dc-b9d4-49ca-a4f0-74a1f377aae9",
        "colab": {
          "base_uri": "https://localhost:8080/",
          "height": 410
        }
      },
      "outputs": [
        {
          "output_type": "display_data",
          "data": {
            "text/plain": [
              "<IPython.core.display.HTML object>"
            ],
            "text/html": [
              "\n",
              "<style>\n",
              "    /* Turns off some styling */\n",
              "    progress {\n",
              "        /* gets rid of default border in Firefox and Opera. */\n",
              "        border: none;\n",
              "        /* Needs to be in here for Safari polyfill so background images work as expected. */\n",
              "        background-size: auto;\n",
              "    }\n",
              "    progress:not([value]), progress:not([value])::-webkit-progress-bar {\n",
              "        background: repeating-linear-gradient(45deg, #7e7e7e, #7e7e7e 10px, #5c5c5c 10px, #5c5c5c 20px);\n",
              "    }\n",
              "    .progress-bar-interrupted, .progress-bar-interrupted::-webkit-progress-bar {\n",
              "        background: #F44336;\n",
              "    }\n",
              "</style>\n"
            ]
          },
          "metadata": {}
        },
        {
          "output_type": "display_data",
          "data": {
            "text/plain": [
              "<IPython.core.display.HTML object>"
            ],
            "text/html": [
              "<table border=\"1\" class=\"dataframe\">\n",
              "  <thead>\n",
              "    <tr style=\"text-align: left;\">\n",
              "      <th>epoch</th>\n",
              "      <th>train_loss</th>\n",
              "      <th>valid_loss</th>\n",
              "      <th>f1_score</th>\n",
              "      <th>accuracy</th>\n",
              "      <th>time</th>\n",
              "    </tr>\n",
              "  </thead>\n",
              "  <tbody>\n",
              "    <tr>\n",
              "      <td>0</td>\n",
              "      <td>0.195089</td>\n",
              "      <td>0.316713</td>\n",
              "      <td>0.898204</td>\n",
              "      <td>0.893750</td>\n",
              "      <td>00:07</td>\n",
              "    </tr>\n",
              "    <tr>\n",
              "      <td>1</td>\n",
              "      <td>0.192827</td>\n",
              "      <td>0.343574</td>\n",
              "      <td>0.865497</td>\n",
              "      <td>0.856250</td>\n",
              "      <td>00:07</td>\n",
              "    </tr>\n",
              "    <tr>\n",
              "      <td>2</td>\n",
              "      <td>0.171442</td>\n",
              "      <td>0.351437</td>\n",
              "      <td>0.883721</td>\n",
              "      <td>0.875000</td>\n",
              "      <td>00:06</td>\n",
              "    </tr>\n",
              "    <tr>\n",
              "      <td>3</td>\n",
              "      <td>0.146579</td>\n",
              "      <td>0.312842</td>\n",
              "      <td>0.894118</td>\n",
              "      <td>0.887500</td>\n",
              "      <td>00:06</td>\n",
              "    </tr>\n",
              "    <tr>\n",
              "      <td>4</td>\n",
              "      <td>0.114526</td>\n",
              "      <td>0.298425</td>\n",
              "      <td>0.902439</td>\n",
              "      <td>0.900000</td>\n",
              "      <td>00:06</td>\n",
              "    </tr>\n",
              "    <tr>\n",
              "      <td>5</td>\n",
              "      <td>0.075502</td>\n",
              "      <td>0.428674</td>\n",
              "      <td>0.892857</td>\n",
              "      <td>0.887500</td>\n",
              "      <td>00:07</td>\n",
              "    </tr>\n",
              "    <tr>\n",
              "      <td>6</td>\n",
              "      <td>0.059567</td>\n",
              "      <td>0.362299</td>\n",
              "      <td>0.902439</td>\n",
              "      <td>0.900000</td>\n",
              "      <td>00:06</td>\n",
              "    </tr>\n",
              "    <tr>\n",
              "      <td>7</td>\n",
              "      <td>0.043812</td>\n",
              "      <td>0.413381</td>\n",
              "      <td>0.894118</td>\n",
              "      <td>0.887500</td>\n",
              "      <td>00:06</td>\n",
              "    </tr>\n",
              "    <tr>\n",
              "      <td>8</td>\n",
              "      <td>0.032728</td>\n",
              "      <td>0.419918</td>\n",
              "      <td>0.899408</td>\n",
              "      <td>0.893750</td>\n",
              "      <td>00:06</td>\n",
              "    </tr>\n",
              "    <tr>\n",
              "      <td>9</td>\n",
              "      <td>0.027340</td>\n",
              "      <td>0.418984</td>\n",
              "      <td>0.904762</td>\n",
              "      <td>0.900000</td>\n",
              "      <td>00:06</td>\n",
              "    </tr>\n",
              "  </tbody>\n",
              "</table>"
            ]
          },
          "metadata": {}
        },
        {
          "output_type": "stream",
          "name": "stdout",
          "text": [
            "Better model found at epoch 0 with f1_score value: 0.8982035928143713.\n",
            "Better model found at epoch 4 with f1_score value: 0.9024390243902438.\n",
            "Better model found at epoch 9 with f1_score value: 0.9047619047619048.\n"
          ]
        }
      ],
      "source": [
        "metric_to_monitor = metrics[0].name if isinstance(metrics[0], Metric) else metrics[0].__name__\n",
        "cbs = [SaveModelCallback(monitor=metric_to_monitor)]\n",
        "learn.fit_one_cycle(10, lr, cbs=cbs)"
      ]
    },
    {
      "cell_type": "markdown",
      "metadata": {
        "id": "Wn0i6Kb21YCg"
      },
      "source": [
        "After training the model it's useful to verify  that results make sense:"
      ]
    },
    {
      "cell_type": "code",
      "execution_count": 128,
      "metadata": {
        "id": "MqvcVv-E1YCg",
        "outputId": "aafb4aac-798e-44e6-a0ab-fa3c9feafb8f",
        "colab": {
          "base_uri": "https://localhost:8080/",
          "height": 328
        }
      },
      "outputs": [
        {
          "output_type": "display_data",
          "data": {
            "text/plain": [
              "<IPython.core.display.HTML object>"
            ],
            "text/html": [
              "\n",
              "<style>\n",
              "    /* Turns off some styling */\n",
              "    progress {\n",
              "        /* gets rid of default border in Firefox and Opera. */\n",
              "        border: none;\n",
              "        /* Needs to be in here for Safari polyfill so background images work as expected. */\n",
              "        background-size: auto;\n",
              "    }\n",
              "    progress:not([value]), progress:not([value])::-webkit-progress-bar {\n",
              "        background: repeating-linear-gradient(45deg, #7e7e7e, #7e7e7e 10px, #5c5c5c 10px, #5c5c5c 20px);\n",
              "    }\n",
              "    .progress-bar-interrupted, .progress-bar-interrupted::-webkit-progress-bar {\n",
              "        background: #F44336;\n",
              "    }\n",
              "</style>\n"
            ]
          },
          "metadata": {}
        },
        {
          "output_type": "display_data",
          "data": {
            "text/plain": [
              "<IPython.core.display.HTML object>"
            ],
            "text/html": []
          },
          "metadata": {}
        },
        {
          "output_type": "display_data",
          "data": {
            "text/plain": [
              "<IPython.core.display.HTML object>"
            ],
            "text/html": [
              "<table border=\"1\" class=\"dataframe\">\n",
              "  <thead>\n",
              "    <tr style=\"text-align: right;\">\n",
              "      <th></th>\n",
              "      <th>text</th>\n",
              "      <th>text_</th>\n",
              "      <th>category</th>\n",
              "      <th>category_</th>\n",
              "    </tr>\n",
              "  </thead>\n",
              "  <tbody>\n",
              "    <tr>\n",
              "      <th>0</th>\n",
              "      <td>Titanfall ships at 792p on Xbox One, post-release resolution 'likely to increase'</td>\n",
              "      <td>Titanfall runs at 792p resolution on Xbox One -- and it may get a postlaunch ...</td>\n",
              "      <td>1</td>\n",
              "      <td>1</td>\n",
              "    </tr>\n",
              "    <tr>\n",
              "      <th>1</th>\n",
              "      <td>Journal says: The first default in China's corporate-bond market is unlikely to be ...</td>\n",
              "      <td>Eni CEO says Ukraine wake-up call for Europe energy policy-paper</td>\n",
              "      <td>0</td>\n",
              "      <td>0</td>\n",
              "    </tr>\n",
              "    <tr>\n",
              "      <th>2</th>\n",
              "      <td>Mt Gox Customers Hack Karpales' Account to Post Evidence of Alleged Fraud</td>\n",
              "      <td>Hackers allegedly hit Mt. Gox CEO's blog, post balance of remaining bitcoins</td>\n",
              "      <td>1</td>\n",
              "      <td>1</td>\n",
              "    </tr>\n",
              "    <tr>\n",
              "      <th>3</th>\n",
              "      <td>Report: Mt. Gox was hit 150K times per second during DDoS attack before theft</td>\n",
              "      <td>Anonymous hackers uncover alleged proof of MtGox fraud from site's CEO</td>\n",
              "      <td>1</td>\n",
              "      <td>1</td>\n",
              "    </tr>\n",
              "    <tr>\n",
              "      <th>4</th>\n",
              "      <td>The Japanese government has come down hard on the digital currency bitcoin.</td>\n",
              "      <td>Hackers allege Mt. Gox head controls'stolen' Bitcoin; fraud committed</td>\n",
              "      <td>1</td>\n",
              "      <td>1</td>\n",
              "    </tr>\n",
              "    <tr>\n",
              "      <th>5</th>\n",
              "      <td>GLOBAL MARKETS-World stocks, copper and oil fall after weak China exports</td>\n",
              "      <td>Chiquita Brands acquires Fyffes to create world's biggest banana seller</td>\n",
              "      <td>0</td>\n",
              "      <td>0</td>\n",
              "    </tr>\n",
              "    <tr>\n",
              "      <th>6</th>\n",
              "      <td>Chiquita share price rallies, acquires Fyffes Plc to create the largest banana ...</td>\n",
              "      <td>Hackers claim bankrupt Mt. Gox still has customers' Bitcoins</td>\n",
              "      <td>0</td>\n",
              "      <td>0</td>\n",
              "    </tr>\n",
              "    <tr>\n",
              "      <th>7</th>\n",
              "      <td>Chrysler Recalls 25000 Vehicles, Loosening Russia's Energy Grip, Fyffes to ...</td>\n",
              "      <td>Rivals to merge and base largest global banana firm in Ireland</td>\n",
              "      <td>1</td>\n",
              "      <td>0</td>\n",
              "    </tr>\n",
              "    <tr>\n",
              "      <th>8</th>\n",
              "      <td>Hong Kong shares in biggest loss in 5 weeks after anemic China data</td>\n",
              "      <td>JetBlue Airways Corp. Receives Average Rating of “Hold” from Analysts ...</td>\n",
              "      <td>0</td>\n",
              "      <td>0</td>\n",
              "    </tr>\n",
              "  </tbody>\n",
              "</table>"
            ]
          },
          "metadata": {}
        }
      ],
      "source": [
        "learn.show_results()"
      ]
    },
    {
      "cell_type": "markdown",
      "metadata": {
        "id": "FDmeUFkK1YCg"
      },
      "source": [
        "Finally we can run our model on test set to get the predictions."
      ]
    },
    {
      "cell_type": "code",
      "execution_count": 129,
      "metadata": {
        "id": "3mRtCLzu1YCg",
        "outputId": "cac89bca-390c-471a-d600-b8a656160806",
        "colab": {
          "base_uri": "https://localhost:8080/",
          "height": 1000
        }
      },
      "outputs": [
        {
          "output_type": "display_data",
          "data": {
            "text/plain": [
              "<IPython.core.display.HTML object>"
            ],
            "text/html": [
              "\n",
              "<style>\n",
              "    /* Turns off some styling */\n",
              "    progress {\n",
              "        /* gets rid of default border in Firefox and Opera. */\n",
              "        border: none;\n",
              "        /* Needs to be in here for Safari polyfill so background images work as expected. */\n",
              "        background-size: auto;\n",
              "    }\n",
              "    progress:not([value]), progress:not([value])::-webkit-progress-bar {\n",
              "        background: repeating-linear-gradient(45deg, #7e7e7e, #7e7e7e 10px, #5c5c5c 10px, #5c5c5c 20px);\n",
              "    }\n",
              "    .progress-bar-interrupted, .progress-bar-interrupted::-webkit-progress-bar {\n",
              "        background: #F44336;\n",
              "    }\n",
              "</style>\n"
            ]
          },
          "metadata": {}
        },
        {
          "output_type": "display_data",
          "data": {
            "text/plain": [
              "<IPython.core.display.HTML object>"
            ],
            "text/html": []
          },
          "metadata": {}
        },
        {
          "output_type": "execute_result",
          "data": {
            "text/plain": [
              "tensor([[2.3249e-04, 9.9977e-01],\n",
              "        [8.8721e-04, 9.9911e-01],\n",
              "        [3.3746e-04, 9.9966e-01],\n",
              "        [9.9969e-01, 3.1450e-04],\n",
              "        [9.9844e-01, 1.5607e-03],\n",
              "        [9.9851e-01, 1.4872e-03],\n",
              "        [6.6022e-01, 3.3978e-01],\n",
              "        [9.9951e-01, 4.9419e-04],\n",
              "        [9.9929e-01, 7.1430e-04],\n",
              "        [9.9860e-01, 1.4004e-03],\n",
              "        [9.9693e-01, 3.0701e-03],\n",
              "        [9.9962e-01, 3.8377e-04],\n",
              "        [9.5126e-01, 4.8740e-02],\n",
              "        [3.6606e-04, 9.9963e-01],\n",
              "        [2.1033e-03, 9.9790e-01],\n",
              "        [2.4754e-04, 9.9975e-01],\n",
              "        [5.8562e-01, 4.1438e-01],\n",
              "        [5.3859e-04, 9.9946e-01],\n",
              "        [9.9929e-01, 7.1175e-04],\n",
              "        [9.9937e-01, 6.2871e-04],\n",
              "        [9.9920e-01, 8.0034e-04],\n",
              "        [6.4839e-04, 9.9935e-01],\n",
              "        [5.9933e-04, 9.9940e-01],\n",
              "        [5.3645e-04, 9.9946e-01],\n",
              "        [2.2290e-03, 9.9777e-01],\n",
              "        [9.9574e-01, 4.2605e-03],\n",
              "        [8.0154e-04, 9.9920e-01],\n",
              "        [3.7073e-04, 9.9963e-01],\n",
              "        [9.6682e-04, 9.9903e-01],\n",
              "        [3.0328e-04, 9.9970e-01],\n",
              "        [9.9921e-01, 7.8510e-04],\n",
              "        [2.0144e-04, 9.9980e-01],\n",
              "        [5.6718e-04, 9.9943e-01],\n",
              "        [3.8236e-04, 9.9962e-01],\n",
              "        [9.9845e-01, 1.5484e-03],\n",
              "        [1.2506e-03, 9.9875e-01],\n",
              "        [9.9648e-01, 3.5208e-03],\n",
              "        [3.1101e-04, 9.9969e-01],\n",
              "        [8.7218e-01, 1.2782e-01],\n",
              "        [1.0484e-01, 8.9516e-01],\n",
              "        [3.5231e-04, 9.9965e-01],\n",
              "        [9.9969e-01, 3.1214e-04],\n",
              "        [1.0803e-03, 9.9892e-01],\n",
              "        [9.9747e-01, 2.5305e-03],\n",
              "        [9.9940e-01, 6.0021e-04],\n",
              "        [9.9922e-01, 7.7701e-04],\n",
              "        [9.9961e-01, 3.8552e-04],\n",
              "        [3.9576e-03, 9.9604e-01],\n",
              "        [9.9942e-01, 5.8137e-04],\n",
              "        [9.9949e-01, 5.1283e-04],\n",
              "        [9.9878e-01, 1.2223e-03],\n",
              "        [9.9962e-01, 3.7683e-04],\n",
              "        [3.3591e-04, 9.9966e-01],\n",
              "        [9.9927e-01, 7.2918e-04],\n",
              "        [9.9885e-01, 1.1495e-03],\n",
              "        [2.4042e-04, 9.9976e-01],\n",
              "        [2.0846e-04, 9.9979e-01],\n",
              "        [9.9885e-01, 1.1505e-03],\n",
              "        [9.7761e-03, 9.9022e-01],\n",
              "        [4.0953e-01, 5.9047e-01],\n",
              "        [4.3769e-04, 9.9956e-01],\n",
              "        [3.6499e-01, 6.3501e-01],\n",
              "        [2.3230e-04, 9.9977e-01],\n",
              "        [5.5270e-01, 4.4730e-01],\n",
              "        [2.2662e-03, 9.9773e-01],\n",
              "        [6.2526e-04, 9.9937e-01],\n",
              "        [2.7522e-04, 9.9972e-01],\n",
              "        [9.9673e-01, 3.2699e-03],\n",
              "        [9.4151e-01, 5.8487e-02],\n",
              "        [9.9821e-01, 1.7853e-03],\n",
              "        [7.9493e-04, 9.9921e-01],\n",
              "        [3.7872e-04, 9.9962e-01],\n",
              "        [1.6801e-02, 9.8320e-01],\n",
              "        [3.5521e-04, 9.9964e-01],\n",
              "        [9.9962e-01, 3.8085e-04],\n",
              "        [9.9928e-01, 7.2349e-04],\n",
              "        [9.9503e-01, 4.9693e-03],\n",
              "        [2.2790e-04, 9.9977e-01],\n",
              "        [9.9934e-01, 6.6074e-04],\n",
              "        [9.9946e-01, 5.4337e-04],\n",
              "        [9.9956e-01, 4.4123e-04],\n",
              "        [5.0158e-04, 9.9950e-01],\n",
              "        [9.9813e-01, 1.8653e-03],\n",
              "        [2.2992e-01, 7.7008e-01],\n",
              "        [9.5081e-04, 9.9905e-01],\n",
              "        [3.6864e-02, 9.6314e-01],\n",
              "        [9.8758e-01, 1.2418e-02],\n",
              "        [9.9957e-01, 4.3210e-04],\n",
              "        [2.5597e-04, 9.9974e-01],\n",
              "        [2.5107e-04, 9.9975e-01],\n",
              "        [3.8671e-04, 9.9961e-01],\n",
              "        [9.9921e-01, 7.8551e-04],\n",
              "        [9.9878e-01, 1.2196e-03],\n",
              "        [1.1098e-02, 9.8890e-01],\n",
              "        [9.9869e-01, 1.3062e-03],\n",
              "        [9.9916e-01, 8.3599e-04],\n",
              "        [9.9952e-01, 4.8209e-04],\n",
              "        [4.3655e-04, 9.9956e-01],\n",
              "        [2.6191e-03, 9.9738e-01],\n",
              "        [3.2082e-04, 9.9968e-01],\n",
              "        [7.1536e-04, 9.9928e-01],\n",
              "        [3.7011e-04, 9.9963e-01],\n",
              "        [9.9943e-01, 5.7411e-04],\n",
              "        [8.6296e-04, 9.9914e-01],\n",
              "        [4.9104e-04, 9.9951e-01],\n",
              "        [9.9957e-01, 4.3337e-04],\n",
              "        [7.9794e-01, 2.0206e-01],\n",
              "        [9.9954e-01, 4.5842e-04],\n",
              "        [3.0349e-04, 9.9970e-01],\n",
              "        [9.9556e-01, 4.4406e-03],\n",
              "        [3.3873e-04, 9.9966e-01],\n",
              "        [7.3455e-04, 9.9927e-01],\n",
              "        [9.9965e-01, 3.4522e-04],\n",
              "        [1.1108e-02, 9.8889e-01],\n",
              "        [3.0874e-04, 9.9969e-01],\n",
              "        [9.9948e-01, 5.1772e-04],\n",
              "        [9.9504e-01, 4.9581e-03],\n",
              "        [3.0182e-04, 9.9970e-01],\n",
              "        [9.6945e-04, 9.9903e-01],\n",
              "        [9.9740e-01, 2.5966e-03],\n",
              "        [9.9919e-01, 8.0983e-04],\n",
              "        [3.1061e-04, 9.9969e-01],\n",
              "        [3.0053e-04, 9.9970e-01],\n",
              "        [9.9860e-01, 1.4040e-03],\n",
              "        [9.9791e-01, 2.0921e-03],\n",
              "        [2.3358e-04, 9.9977e-01],\n",
              "        [1.2949e-03, 9.9871e-01],\n",
              "        [7.2060e-01, 2.7940e-01],\n",
              "        [9.9545e-01, 4.5481e-03],\n",
              "        [9.9863e-01, 1.3747e-03],\n",
              "        [1.5930e-03, 9.9841e-01],\n",
              "        [9.9937e-01, 6.2727e-04],\n",
              "        [2.3612e-04, 9.9976e-01],\n",
              "        [2.3221e-04, 9.9977e-01],\n",
              "        [9.9883e-01, 1.1681e-03],\n",
              "        [9.9968e-01, 3.1666e-04],\n",
              "        [3.2061e-04, 9.9968e-01],\n",
              "        [9.9905e-01, 9.5404e-04],\n",
              "        [9.9872e-01, 1.2823e-03],\n",
              "        [4.9670e-04, 9.9950e-01],\n",
              "        [3.0315e-04, 9.9970e-01],\n",
              "        [9.8695e-01, 1.3051e-02],\n",
              "        [9.9942e-01, 5.7586e-04],\n",
              "        [3.3674e-04, 9.9966e-01],\n",
              "        [3.3245e-04, 9.9967e-01],\n",
              "        [9.9969e-01, 3.1085e-04],\n",
              "        [2.6834e-04, 9.9973e-01],\n",
              "        [9.9958e-01, 4.1571e-04],\n",
              "        [9.9936e-01, 6.4065e-04],\n",
              "        [9.9902e-01, 9.8454e-04],\n",
              "        [9.8088e-01, 1.9121e-02],\n",
              "        [2.6520e-04, 9.9973e-01],\n",
              "        [2.7675e-02, 9.7232e-01],\n",
              "        [5.7643e-01, 4.2357e-01],\n",
              "        [2.4688e-04, 9.9975e-01],\n",
              "        [3.5748e-04, 9.9964e-01],\n",
              "        [9.9951e-01, 4.9157e-04],\n",
              "        [8.8890e-03, 9.9111e-01],\n",
              "        [9.9832e-01, 1.6803e-03],\n",
              "        [9.9719e-01, 2.8058e-03],\n",
              "        [3.2642e-04, 9.9967e-01],\n",
              "        [9.9724e-01, 2.7645e-03],\n",
              "        [4.3714e-04, 9.9956e-01],\n",
              "        [7.1940e-01, 2.8060e-01],\n",
              "        [3.5326e-02, 9.6467e-01],\n",
              "        [2.9347e-04, 9.9971e-01],\n",
              "        [2.4646e-04, 9.9975e-01],\n",
              "        [1.2864e-02, 9.8714e-01],\n",
              "        [3.9149e-04, 9.9961e-01],\n",
              "        [9.8258e-01, 1.7418e-02],\n",
              "        [7.4407e-04, 9.9926e-01],\n",
              "        [9.9564e-01, 4.3639e-03],\n",
              "        [7.7636e-04, 9.9922e-01],\n",
              "        [9.9819e-01, 1.8137e-03],\n",
              "        [9.9938e-01, 6.1594e-04],\n",
              "        [9.9436e-01, 5.6381e-03],\n",
              "        [9.9441e-01, 5.5923e-03],\n",
              "        [2.2001e-04, 9.9978e-01],\n",
              "        [1.0028e-01, 8.9972e-01],\n",
              "        [3.5311e-04, 9.9965e-01],\n",
              "        [9.9949e-01, 5.0766e-04],\n",
              "        [3.0744e-04, 9.9969e-01],\n",
              "        [9.9939e-01, 6.1199e-04],\n",
              "        [3.6149e-04, 9.9964e-01],\n",
              "        [1.7417e-02, 9.8258e-01],\n",
              "        [4.7795e-01, 5.2205e-01],\n",
              "        [9.9709e-01, 2.9118e-03],\n",
              "        [2.3183e-04, 9.9977e-01],\n",
              "        [9.9951e-01, 4.9202e-04],\n",
              "        [9.9631e-01, 3.6923e-03],\n",
              "        [2.2637e-04, 9.9977e-01],\n",
              "        [9.9943e-01, 5.6588e-04],\n",
              "        [9.9826e-01, 1.7356e-03],\n",
              "        [5.7644e-04, 9.9942e-01],\n",
              "        [9.7834e-01, 2.1663e-02],\n",
              "        [4.8392e-01, 5.1608e-01],\n",
              "        [4.5162e-01, 5.4838e-01],\n",
              "        [5.7085e-03, 9.9429e-01],\n",
              "        [9.9950e-01, 5.0319e-04],\n",
              "        [9.9922e-01, 7.8451e-04],\n",
              "        [2.2335e-04, 9.9978e-01],\n",
              "        [9.9505e-01, 4.9498e-03],\n",
              "        [9.9644e-01, 3.5601e-03],\n",
              "        [1.1901e-03, 9.9881e-01],\n",
              "        [9.9630e-01, 3.6962e-03],\n",
              "        [6.7537e-04, 9.9932e-01],\n",
              "        [3.9734e-01, 6.0266e-01],\n",
              "        [9.9948e-01, 5.2149e-04],\n",
              "        [9.1295e-01, 8.7050e-02],\n",
              "        [2.9071e-04, 9.9971e-01],\n",
              "        [3.3868e-04, 9.9966e-01],\n",
              "        [1.8842e-01, 8.1158e-01],\n",
              "        [1.0072e-01, 8.9928e-01],\n",
              "        [4.0125e-04, 9.9960e-01],\n",
              "        [9.9972e-01, 2.8041e-04],\n",
              "        [5.2177e-04, 9.9948e-01],\n",
              "        [9.9741e-01, 2.5923e-03],\n",
              "        [9.9670e-01, 3.3036e-03],\n",
              "        [2.2169e-04, 9.9978e-01],\n",
              "        [2.4158e-04, 9.9976e-01],\n",
              "        [9.9911e-01, 8.8798e-04],\n",
              "        [7.4532e-02, 9.2547e-01],\n",
              "        [9.9942e-01, 5.7746e-04],\n",
              "        [2.9409e-04, 9.9971e-01],\n",
              "        [7.8862e-04, 9.9921e-01],\n",
              "        [9.9967e-01, 3.2929e-04],\n",
              "        [9.9937e-01, 6.3352e-04],\n",
              "        [3.3794e-04, 9.9966e-01],\n",
              "        [4.6412e-02, 9.5359e-01],\n",
              "        [3.6834e-04, 9.9963e-01],\n",
              "        [8.6558e-01, 1.3442e-01],\n",
              "        [9.9945e-01, 5.5268e-04],\n",
              "        [6.7485e-03, 9.9325e-01],\n",
              "        [9.9889e-01, 1.1132e-03],\n",
              "        [6.6858e-04, 9.9933e-01],\n",
              "        [2.9980e-04, 9.9970e-01],\n",
              "        [9.9966e-01, 3.4456e-04],\n",
              "        [4.6246e-04, 9.9954e-01],\n",
              "        [2.5077e-04, 9.9975e-01],\n",
              "        [9.9816e-01, 1.8445e-03],\n",
              "        [9.9959e-01, 4.1034e-04],\n",
              "        [3.6822e-02, 9.6318e-01],\n",
              "        [9.4489e-04, 9.9906e-01],\n",
              "        [9.9588e-01, 4.1152e-03],\n",
              "        [3.1071e-04, 9.9969e-01],\n",
              "        [9.9473e-01, 5.2690e-03],\n",
              "        [9.9969e-01, 3.1327e-04],\n",
              "        [9.9947e-01, 5.2899e-04],\n",
              "        [9.9945e-01, 5.5279e-04],\n",
              "        [2.5575e-04, 9.9974e-01],\n",
              "        [1.1365e-03, 9.9886e-01],\n",
              "        [4.9338e-04, 9.9951e-01],\n",
              "        [9.9909e-01, 9.1341e-04],\n",
              "        [9.9924e-01, 7.6228e-04],\n",
              "        [9.9959e-01, 4.1048e-04],\n",
              "        [9.9906e-01, 9.3608e-04],\n",
              "        [8.3970e-04, 9.9916e-01],\n",
              "        [9.9637e-01, 3.6303e-03],\n",
              "        [1.0482e-03, 9.9895e-01],\n",
              "        [9.9798e-01, 2.0165e-03],\n",
              "        [9.9908e-01, 9.1920e-04],\n",
              "        [9.9818e-01, 1.8180e-03],\n",
              "        [9.9945e-01, 5.4637e-04],\n",
              "        [4.7287e-04, 9.9953e-01],\n",
              "        [2.6178e-04, 9.9974e-01],\n",
              "        [9.9955e-01, 4.4572e-04],\n",
              "        [2.1446e-04, 9.9979e-01],\n",
              "        [9.9913e-01, 8.7449e-04],\n",
              "        [3.4167e-04, 9.9966e-01],\n",
              "        [9.9159e-01, 8.4150e-03],\n",
              "        [5.4831e-04, 9.9945e-01],\n",
              "        [7.1512e-01, 2.8488e-01],\n",
              "        [7.1268e-04, 9.9929e-01],\n",
              "        [9.7147e-01, 2.8526e-02],\n",
              "        [5.7525e-04, 9.9942e-01],\n",
              "        [9.9167e-04, 9.9901e-01],\n",
              "        [4.0321e-01, 5.9679e-01],\n",
              "        [9.9846e-01, 1.5361e-03],\n",
              "        [9.9970e-01, 3.0123e-04],\n",
              "        [2.7033e-04, 9.9973e-01],\n",
              "        [7.1265e-04, 9.9929e-01],\n",
              "        [2.4736e-04, 9.9975e-01],\n",
              "        [8.4456e-04, 9.9916e-01],\n",
              "        [2.9406e-04, 9.9971e-01],\n",
              "        [9.9965e-01, 3.5477e-04],\n",
              "        [9.9410e-01, 5.9038e-03],\n",
              "        [9.9915e-01, 8.4503e-04],\n",
              "        [3.4338e-04, 9.9966e-01],\n",
              "        [2.6545e-04, 9.9973e-01],\n",
              "        [2.8583e-04, 9.9971e-01],\n",
              "        [1.6122e-02, 9.8388e-01],\n",
              "        [2.8119e-04, 9.9972e-01],\n",
              "        [2.3764e-03, 9.9762e-01],\n",
              "        [9.9933e-01, 6.7175e-04],\n",
              "        [5.2846e-01, 4.7154e-01],\n",
              "        [6.3180e-02, 9.3682e-01],\n",
              "        [8.1559e-04, 9.9918e-01],\n",
              "        [3.7428e-04, 9.9963e-01],\n",
              "        [9.9936e-01, 6.3546e-04],\n",
              "        [2.5272e-04, 9.9975e-01],\n",
              "        [3.1660e-04, 9.9968e-01],\n",
              "        [9.9960e-01, 4.0198e-04],\n",
              "        [9.9914e-01, 8.5970e-04],\n",
              "        [8.9316e-01, 1.0684e-01],\n",
              "        [9.9959e-01, 4.1152e-04],\n",
              "        [9.9875e-01, 1.2494e-03],\n",
              "        [9.9526e-01, 4.7378e-03],\n",
              "        [9.9965e-01, 3.4873e-04],\n",
              "        [3.3040e-04, 9.9967e-01],\n",
              "        [2.2913e-03, 9.9771e-01],\n",
              "        [2.5864e-04, 9.9974e-01],\n",
              "        [9.9942e-01, 5.7716e-04],\n",
              "        [2.2733e-04, 9.9977e-01],\n",
              "        [9.9822e-01, 1.7850e-03],\n",
              "        [9.9958e-01, 4.1604e-04],\n",
              "        [9.9872e-01, 1.2784e-03],\n",
              "        [6.1048e-04, 9.9939e-01],\n",
              "        [2.5161e-04, 9.9975e-01],\n",
              "        [9.9912e-01, 8.8225e-04],\n",
              "        [9.6919e-04, 9.9903e-01],\n",
              "        [3.5673e-04, 9.9964e-01],\n",
              "        [9.9940e-01, 5.9652e-04],\n",
              "        [9.9891e-01, 1.0896e-03],\n",
              "        [7.7159e-04, 9.9923e-01],\n",
              "        [1.7809e-04, 9.9982e-01],\n",
              "        [6.4999e-04, 9.9935e-01],\n",
              "        [9.9709e-01, 2.9054e-03],\n",
              "        [9.9305e-01, 6.9476e-03],\n",
              "        [7.7483e-04, 9.9923e-01],\n",
              "        [9.9940e-01, 5.9973e-04],\n",
              "        [9.9703e-01, 2.9660e-03],\n",
              "        [9.9849e-01, 1.5119e-03],\n",
              "        [6.7102e-04, 9.9933e-01],\n",
              "        [9.9919e-01, 8.0968e-04],\n",
              "        [3.3374e-04, 9.9967e-01],\n",
              "        [2.5895e-04, 9.9974e-01],\n",
              "        [2.1479e-04, 9.9979e-01],\n",
              "        [2.1127e-01, 7.8873e-01],\n",
              "        [9.4467e-01, 5.5334e-02],\n",
              "        [7.7992e-01, 2.2008e-01],\n",
              "        [3.4208e-04, 9.9966e-01],\n",
              "        [9.9945e-01, 5.4842e-04],\n",
              "        [2.8889e-04, 9.9971e-01],\n",
              "        [9.9902e-01, 9.7990e-04],\n",
              "        [1.3435e-03, 9.9866e-01],\n",
              "        [2.9560e-04, 9.9970e-01],\n",
              "        [9.9962e-01, 3.8095e-04],\n",
              "        [8.1012e-01, 1.8988e-01],\n",
              "        [9.9940e-01, 5.9624e-04],\n",
              "        [9.9867e-01, 1.3259e-03],\n",
              "        [2.3262e-04, 9.9977e-01],\n",
              "        [2.6335e-04, 9.9974e-01],\n",
              "        [8.1556e-01, 1.8444e-01],\n",
              "        [2.1850e-01, 7.8150e-01],\n",
              "        [1.4863e-01, 8.5137e-01],\n",
              "        [9.9876e-01, 1.2357e-03],\n",
              "        [9.9967e-01, 3.3462e-04],\n",
              "        [7.7349e-01, 2.2651e-01],\n",
              "        [9.9967e-01, 3.3111e-04],\n",
              "        [9.9854e-01, 1.4598e-03],\n",
              "        [6.6407e-02, 9.3359e-01],\n",
              "        [9.9884e-01, 1.1649e-03],\n",
              "        [8.2919e-04, 9.9917e-01],\n",
              "        [5.2421e-01, 4.7579e-01],\n",
              "        [9.9934e-01, 6.6230e-04],\n",
              "        [9.9921e-01, 7.9022e-04],\n",
              "        [9.9962e-01, 3.8357e-04],\n",
              "        [9.9906e-01, 9.3968e-04],\n",
              "        [9.9935e-01, 6.4886e-04],\n",
              "        [4.4458e-03, 9.9555e-01],\n",
              "        [3.6341e-04, 9.9964e-01],\n",
              "        [9.9931e-01, 6.8775e-04],\n",
              "        [2.6516e-04, 9.9973e-01],\n",
              "        [2.9194e-04, 9.9971e-01],\n",
              "        [2.7362e-04, 9.9973e-01],\n",
              "        [3.4333e-02, 9.6567e-01],\n",
              "        [9.9958e-01, 4.1845e-04],\n",
              "        [2.7520e-04, 9.9972e-01],\n",
              "        [4.1951e-04, 9.9958e-01],\n",
              "        [9.9966e-01, 3.3694e-04],\n",
              "        [4.4077e-04, 9.9956e-01],\n",
              "        [2.4701e-04, 9.9975e-01],\n",
              "        [9.9964e-01, 3.5649e-04],\n",
              "        [9.9889e-01, 1.1052e-03],\n",
              "        [3.3809e-02, 9.6619e-01],\n",
              "        [2.4785e-04, 9.9975e-01],\n",
              "        [4.2711e-02, 9.5729e-01],\n",
              "        [4.4060e-04, 9.9956e-01],\n",
              "        [2.3030e-04, 9.9977e-01],\n",
              "        [4.0668e-04, 9.9959e-01],\n",
              "        [4.8166e-04, 9.9952e-01],\n",
              "        [3.3624e-04, 9.9966e-01],\n",
              "        [7.9100e-03, 9.9209e-01],\n",
              "        [2.2271e-04, 9.9978e-01],\n",
              "        [9.9887e-01, 1.1263e-03],\n",
              "        [9.9848e-01, 1.5213e-03],\n",
              "        [8.3258e-01, 1.6742e-01],\n",
              "        [5.2787e-04, 9.9947e-01],\n",
              "        [9.9094e-01, 9.0601e-03],\n",
              "        [3.4014e-04, 9.9966e-01]])"
            ]
          },
          "metadata": {},
          "execution_count": 129
        }
      ],
      "source": [
        "test_dl = dls.test_dl(ds['test'])\n",
        "preds = learn.get_preds(dl=test_dl)\n",
        "preds[0]"
      ]
    },
    {
      "cell_type": "markdown",
      "metadata": {
        "id": "k6wN1SIf1YCh"
      },
      "source": [
        "## Final remarks"
      ]
    },
    {
      "cell_type": "markdown",
      "metadata": {
        "id": "kr02yfAk1YCh"
      },
      "source": [
        "Generalised versions of \"wrapper\" code used in this notebook can be found in [fasthugs](https://github.com/aikindergarten/fasthugs) library. Also you can check out some extra info on fine-tuning models on GLUE tasks in [this blogpost](https://arampacha.github.io/thoughtsamples/fastai/huggingface/transformers/2021/05/07/glue-benchmark.html). Another option for training HuggingFace transformers with fastai is using [blurr](https://github.com/ohmeow/blurr) library."
      ]
    },
    {
      "cell_type": "code",
      "source": [],
      "metadata": {
        "id": "5otVCb4m1kkf"
      },
      "execution_count": 28,
      "outputs": []
    }
  ],
  "metadata": {
    "kernelspec": {
      "display_name": "Python 3",
      "language": "python",
      "name": "python3"
    },
    "colab": {
      "provenance": []
    },
    "accelerator": "GPU",
    "gpuClass": "standard",
    "widgets": {
      "application/vnd.jupyter.widget-state+json": {
        "5035b21a4ec6421b91c21010bb7ead17": {
          "model_module": "@jupyter-widgets/controls",
          "model_name": "HBoxModel",
          "model_module_version": "1.5.0",
          "state": {
            "_dom_classes": [],
            "_model_module": "@jupyter-widgets/controls",
            "_model_module_version": "1.5.0",
            "_model_name": "HBoxModel",
            "_view_count": null,
            "_view_module": "@jupyter-widgets/controls",
            "_view_module_version": "1.5.0",
            "_view_name": "HBoxView",
            "box_style": "",
            "children": [
              "IPY_MODEL_d97e4c808f3a4d6289654010f8a509de",
              "IPY_MODEL_6f181c466ec640a2847139c841d2a969"
            ],
            "layout": "IPY_MODEL_56d2cf0232104c3b8b34c89be1ca4dfe"
          }
        },
        "d97e4c808f3a4d6289654010f8a509de": {
          "model_module": "@jupyter-widgets/controls",
          "model_name": "FloatProgressModel",
          "model_module_version": "1.5.0",
          "state": {
            "_dom_classes": [],
            "_model_module": "@jupyter-widgets/controls",
            "_model_module_version": "1.5.0",
            "_model_name": "FloatProgressModel",
            "_view_count": null,
            "_view_module": "@jupyter-widgets/controls",
            "_view_module_version": "1.5.0",
            "_view_name": "ProgressView",
            "bar_style": "success",
            "description": "Downloading: ",
            "description_tooltip": null,
            "layout": "IPY_MODEL_ad6db6be9bbe40128d7d87a73ba04553",
            "max": 7777,
            "min": 0,
            "orientation": "horizontal",
            "style": "IPY_MODEL_f8c5e48125b34ce0820ca2e99f5d90be",
            "value": 7777
          }
        },
        "6f181c466ec640a2847139c841d2a969": {
          "model_module": "@jupyter-widgets/controls",
          "model_name": "HTMLModel",
          "model_module_version": "1.5.0",
          "state": {
            "_dom_classes": [],
            "_model_module": "@jupyter-widgets/controls",
            "_model_module_version": "1.5.0",
            "_model_name": "HTMLModel",
            "_view_count": null,
            "_view_module": "@jupyter-widgets/controls",
            "_view_module_version": "1.5.0",
            "_view_name": "HTMLView",
            "description": "",
            "description_tooltip": null,
            "layout": "IPY_MODEL_0a860bb1ba364bf28d0a44acf866e799",
            "placeholder": "​",
            "style": "IPY_MODEL_76151a387b984af79ab8ef1a3c32f8dc",
            "value": " 28.8k/? [00:00&lt;00:00, 61.7kB/s]"
          }
        },
        "56d2cf0232104c3b8b34c89be1ca4dfe": {
          "model_module": "@jupyter-widgets/base",
          "model_name": "LayoutModel",
          "model_module_version": "1.2.0",
          "state": {
            "_model_module": "@jupyter-widgets/base",
            "_model_module_version": "1.2.0",
            "_model_name": "LayoutModel",
            "_view_count": null,
            "_view_module": "@jupyter-widgets/base",
            "_view_module_version": "1.2.0",
            "_view_name": "LayoutView",
            "align_content": null,
            "align_items": null,
            "align_self": null,
            "border": null,
            "bottom": null,
            "display": null,
            "flex": null,
            "flex_flow": null,
            "grid_area": null,
            "grid_auto_columns": null,
            "grid_auto_flow": null,
            "grid_auto_rows": null,
            "grid_column": null,
            "grid_gap": null,
            "grid_row": null,
            "grid_template_areas": null,
            "grid_template_columns": null,
            "grid_template_rows": null,
            "height": null,
            "justify_content": null,
            "justify_items": null,
            "left": null,
            "margin": null,
            "max_height": null,
            "max_width": null,
            "min_height": null,
            "min_width": null,
            "object_fit": null,
            "object_position": null,
            "order": null,
            "overflow": null,
            "overflow_x": null,
            "overflow_y": null,
            "padding": null,
            "right": null,
            "top": null,
            "visibility": null,
            "width": null
          }
        },
        "ad6db6be9bbe40128d7d87a73ba04553": {
          "model_module": "@jupyter-widgets/base",
          "model_name": "LayoutModel",
          "model_module_version": "1.2.0",
          "state": {
            "_model_module": "@jupyter-widgets/base",
            "_model_module_version": "1.2.0",
            "_model_name": "LayoutModel",
            "_view_count": null,
            "_view_module": "@jupyter-widgets/base",
            "_view_module_version": "1.2.0",
            "_view_name": "LayoutView",
            "align_content": null,
            "align_items": null,
            "align_self": null,
            "border": null,
            "bottom": null,
            "display": null,
            "flex": null,
            "flex_flow": null,
            "grid_area": null,
            "grid_auto_columns": null,
            "grid_auto_flow": null,
            "grid_auto_rows": null,
            "grid_column": null,
            "grid_gap": null,
            "grid_row": null,
            "grid_template_areas": null,
            "grid_template_columns": null,
            "grid_template_rows": null,
            "height": null,
            "justify_content": null,
            "justify_items": null,
            "left": null,
            "margin": null,
            "max_height": null,
            "max_width": null,
            "min_height": null,
            "min_width": null,
            "object_fit": null,
            "object_position": null,
            "order": null,
            "overflow": null,
            "overflow_x": null,
            "overflow_y": null,
            "padding": null,
            "right": null,
            "top": null,
            "visibility": null,
            "width": null
          }
        },
        "f8c5e48125b34ce0820ca2e99f5d90be": {
          "model_module": "@jupyter-widgets/controls",
          "model_name": "ProgressStyleModel",
          "model_module_version": "1.5.0",
          "state": {
            "_model_module": "@jupyter-widgets/controls",
            "_model_module_version": "1.5.0",
            "_model_name": "ProgressStyleModel",
            "_view_count": null,
            "_view_module": "@jupyter-widgets/base",
            "_view_module_version": "1.2.0",
            "_view_name": "StyleView",
            "bar_color": null,
            "description_width": "initial"
          }
        },
        "0a860bb1ba364bf28d0a44acf866e799": {
          "model_module": "@jupyter-widgets/base",
          "model_name": "LayoutModel",
          "model_module_version": "1.2.0",
          "state": {
            "_model_module": "@jupyter-widgets/base",
            "_model_module_version": "1.2.0",
            "_model_name": "LayoutModel",
            "_view_count": null,
            "_view_module": "@jupyter-widgets/base",
            "_view_module_version": "1.2.0",
            "_view_name": "LayoutView",
            "align_content": null,
            "align_items": null,
            "align_self": null,
            "border": null,
            "bottom": null,
            "display": null,
            "flex": null,
            "flex_flow": null,
            "grid_area": null,
            "grid_auto_columns": null,
            "grid_auto_flow": null,
            "grid_auto_rows": null,
            "grid_column": null,
            "grid_gap": null,
            "grid_row": null,
            "grid_template_areas": null,
            "grid_template_columns": null,
            "grid_template_rows": null,
            "height": null,
            "justify_content": null,
            "justify_items": null,
            "left": null,
            "margin": null,
            "max_height": null,
            "max_width": null,
            "min_height": null,
            "min_width": null,
            "object_fit": null,
            "object_position": null,
            "order": null,
            "overflow": null,
            "overflow_x": null,
            "overflow_y": null,
            "padding": null,
            "right": null,
            "top": null,
            "visibility": null,
            "width": null
          }
        },
        "76151a387b984af79ab8ef1a3c32f8dc": {
          "model_module": "@jupyter-widgets/controls",
          "model_name": "DescriptionStyleModel",
          "model_module_version": "1.5.0",
          "state": {
            "_model_module": "@jupyter-widgets/controls",
            "_model_module_version": "1.5.0",
            "_model_name": "DescriptionStyleModel",
            "_view_count": null,
            "_view_module": "@jupyter-widgets/base",
            "_view_module_version": "1.2.0",
            "_view_name": "StyleView",
            "description_width": ""
          }
        },
        "68b2737f11e2477d9df3b94d846a629e": {
          "model_module": "@jupyter-widgets/controls",
          "model_name": "HBoxModel",
          "model_module_version": "1.5.0",
          "state": {
            "_dom_classes": [],
            "_model_module": "@jupyter-widgets/controls",
            "_model_module_version": "1.5.0",
            "_model_name": "HBoxModel",
            "_view_count": null,
            "_view_module": "@jupyter-widgets/controls",
            "_view_module_version": "1.5.0",
            "_view_name": "HBoxView",
            "box_style": "",
            "children": [
              "IPY_MODEL_3b198f96680a44c2b141023ebf65bb65",
              "IPY_MODEL_4dc4d7bb0c3c44d589591a2ca29f0658"
            ],
            "layout": "IPY_MODEL_10b9c2f36dd748f5ab6e10cbf880cb64"
          }
        },
        "3b198f96680a44c2b141023ebf65bb65": {
          "model_module": "@jupyter-widgets/controls",
          "model_name": "FloatProgressModel",
          "model_module_version": "1.5.0",
          "state": {
            "_dom_classes": [],
            "_model_module": "@jupyter-widgets/controls",
            "_model_module_version": "1.5.0",
            "_model_name": "FloatProgressModel",
            "_view_count": null,
            "_view_module": "@jupyter-widgets/controls",
            "_view_module_version": "1.5.0",
            "_view_name": "ProgressView",
            "bar_style": "success",
            "description": "Downloading: ",
            "description_tooltip": null,
            "layout": "IPY_MODEL_e436c42f66e5462dbe8fa538cb079beb",
            "max": 4473,
            "min": 0,
            "orientation": "horizontal",
            "style": "IPY_MODEL_009fc434409f474881805de0ad0678c8",
            "value": 4473
          }
        },
        "4dc4d7bb0c3c44d589591a2ca29f0658": {
          "model_module": "@jupyter-widgets/controls",
          "model_name": "HTMLModel",
          "model_module_version": "1.5.0",
          "state": {
            "_dom_classes": [],
            "_model_module": "@jupyter-widgets/controls",
            "_model_module_version": "1.5.0",
            "_model_name": "HTMLModel",
            "_view_count": null,
            "_view_module": "@jupyter-widgets/controls",
            "_view_module_version": "1.5.0",
            "_view_name": "HTMLView",
            "description": "",
            "description_tooltip": null,
            "layout": "IPY_MODEL_50ae24485a364d5f93df17581c82f727",
            "placeholder": "​",
            "style": "IPY_MODEL_b317eec8e40544b7aaf2eddf0458f84a",
            "value": " 28.7k/? [00:00&lt;00:00, 416kB/s]"
          }
        },
        "10b9c2f36dd748f5ab6e10cbf880cb64": {
          "model_module": "@jupyter-widgets/base",
          "model_name": "LayoutModel",
          "model_module_version": "1.2.0",
          "state": {
            "_model_module": "@jupyter-widgets/base",
            "_model_module_version": "1.2.0",
            "_model_name": "LayoutModel",
            "_view_count": null,
            "_view_module": "@jupyter-widgets/base",
            "_view_module_version": "1.2.0",
            "_view_name": "LayoutView",
            "align_content": null,
            "align_items": null,
            "align_self": null,
            "border": null,
            "bottom": null,
            "display": null,
            "flex": null,
            "flex_flow": null,
            "grid_area": null,
            "grid_auto_columns": null,
            "grid_auto_flow": null,
            "grid_auto_rows": null,
            "grid_column": null,
            "grid_gap": null,
            "grid_row": null,
            "grid_template_areas": null,
            "grid_template_columns": null,
            "grid_template_rows": null,
            "height": null,
            "justify_content": null,
            "justify_items": null,
            "left": null,
            "margin": null,
            "max_height": null,
            "max_width": null,
            "min_height": null,
            "min_width": null,
            "object_fit": null,
            "object_position": null,
            "order": null,
            "overflow": null,
            "overflow_x": null,
            "overflow_y": null,
            "padding": null,
            "right": null,
            "top": null,
            "visibility": null,
            "width": null
          }
        },
        "e436c42f66e5462dbe8fa538cb079beb": {
          "model_module": "@jupyter-widgets/base",
          "model_name": "LayoutModel",
          "model_module_version": "1.2.0",
          "state": {
            "_model_module": "@jupyter-widgets/base",
            "_model_module_version": "1.2.0",
            "_model_name": "LayoutModel",
            "_view_count": null,
            "_view_module": "@jupyter-widgets/base",
            "_view_module_version": "1.2.0",
            "_view_name": "LayoutView",
            "align_content": null,
            "align_items": null,
            "align_self": null,
            "border": null,
            "bottom": null,
            "display": null,
            "flex": null,
            "flex_flow": null,
            "grid_area": null,
            "grid_auto_columns": null,
            "grid_auto_flow": null,
            "grid_auto_rows": null,
            "grid_column": null,
            "grid_gap": null,
            "grid_row": null,
            "grid_template_areas": null,
            "grid_template_columns": null,
            "grid_template_rows": null,
            "height": null,
            "justify_content": null,
            "justify_items": null,
            "left": null,
            "margin": null,
            "max_height": null,
            "max_width": null,
            "min_height": null,
            "min_width": null,
            "object_fit": null,
            "object_position": null,
            "order": null,
            "overflow": null,
            "overflow_x": null,
            "overflow_y": null,
            "padding": null,
            "right": null,
            "top": null,
            "visibility": null,
            "width": null
          }
        },
        "009fc434409f474881805de0ad0678c8": {
          "model_module": "@jupyter-widgets/controls",
          "model_name": "ProgressStyleModel",
          "model_module_version": "1.5.0",
          "state": {
            "_model_module": "@jupyter-widgets/controls",
            "_model_module_version": "1.5.0",
            "_model_name": "ProgressStyleModel",
            "_view_count": null,
            "_view_module": "@jupyter-widgets/base",
            "_view_module_version": "1.2.0",
            "_view_name": "StyleView",
            "bar_color": null,
            "description_width": "initial"
          }
        },
        "50ae24485a364d5f93df17581c82f727": {
          "model_module": "@jupyter-widgets/base",
          "model_name": "LayoutModel",
          "model_module_version": "1.2.0",
          "state": {
            "_model_module": "@jupyter-widgets/base",
            "_model_module_version": "1.2.0",
            "_model_name": "LayoutModel",
            "_view_count": null,
            "_view_module": "@jupyter-widgets/base",
            "_view_module_version": "1.2.0",
            "_view_name": "LayoutView",
            "align_content": null,
            "align_items": null,
            "align_self": null,
            "border": null,
            "bottom": null,
            "display": null,
            "flex": null,
            "flex_flow": null,
            "grid_area": null,
            "grid_auto_columns": null,
            "grid_auto_flow": null,
            "grid_auto_rows": null,
            "grid_column": null,
            "grid_gap": null,
            "grid_row": null,
            "grid_template_areas": null,
            "grid_template_columns": null,
            "grid_template_rows": null,
            "height": null,
            "justify_content": null,
            "justify_items": null,
            "left": null,
            "margin": null,
            "max_height": null,
            "max_width": null,
            "min_height": null,
            "min_width": null,
            "object_fit": null,
            "object_position": null,
            "order": null,
            "overflow": null,
            "overflow_x": null,
            "overflow_y": null,
            "padding": null,
            "right": null,
            "top": null,
            "visibility": null,
            "width": null
          }
        },
        "b317eec8e40544b7aaf2eddf0458f84a": {
          "model_module": "@jupyter-widgets/controls",
          "model_name": "DescriptionStyleModel",
          "model_module_version": "1.5.0",
          "state": {
            "_model_module": "@jupyter-widgets/controls",
            "_model_module_version": "1.5.0",
            "_model_name": "DescriptionStyleModel",
            "_view_count": null,
            "_view_module": "@jupyter-widgets/base",
            "_view_module_version": "1.2.0",
            "_view_name": "StyleView",
            "description_width": ""
          }
        },
        "635093e8225f450c94181c2c1750cb76": {
          "model_module": "@jupyter-widgets/controls",
          "model_name": "HBoxModel",
          "model_module_version": "1.5.0",
          "state": {
            "_dom_classes": [],
            "_model_module": "@jupyter-widgets/controls",
            "_model_module_version": "1.5.0",
            "_model_name": "HBoxModel",
            "_view_count": null,
            "_view_module": "@jupyter-widgets/controls",
            "_view_module_version": "1.5.0",
            "_view_name": "HBoxView",
            "box_style": "",
            "children": [
              "IPY_MODEL_ff99203be2df40fa92cd2cd08f47482f",
              "IPY_MODEL_1e6bf5690d904edfa11da0effa3c771d"
            ],
            "layout": "IPY_MODEL_2f4b2d8f6c8948a9a969c3354862b6af"
          }
        },
        "ff99203be2df40fa92cd2cd08f47482f": {
          "model_module": "@jupyter-widgets/controls",
          "model_name": "FloatProgressModel",
          "model_module_version": "1.5.0",
          "state": {
            "_dom_classes": [],
            "_model_module": "@jupyter-widgets/controls",
            "_model_module_version": "1.5.0",
            "_model_name": "FloatProgressModel",
            "_view_count": null,
            "_view_module": "@jupyter-widgets/controls",
            "_view_module_version": "1.5.0",
            "_view_name": "ProgressView",
            "bar_style": "success",
            "description": "",
            "description_tooltip": null,
            "layout": "IPY_MODEL_6a3259f1c76e4e32a119bf18f79c5055",
            "max": 1,
            "min": 0,
            "orientation": "horizontal",
            "style": "IPY_MODEL_ee970688ebbf4979b4313aaa9c29587b",
            "value": 1
          }
        },
        "1e6bf5690d904edfa11da0effa3c771d": {
          "model_module": "@jupyter-widgets/controls",
          "model_name": "HTMLModel",
          "model_module_version": "1.5.0",
          "state": {
            "_dom_classes": [],
            "_model_module": "@jupyter-widgets/controls",
            "_model_module_version": "1.5.0",
            "_model_name": "HTMLModel",
            "_view_count": null,
            "_view_module": "@jupyter-widgets/controls",
            "_view_module_version": "1.5.0",
            "_view_name": "HTMLView",
            "description": "",
            "description_tooltip": null,
            "layout": "IPY_MODEL_0e9c7203ae174f37aa02fcc95bdd889b",
            "placeholder": "​",
            "style": "IPY_MODEL_e8cace61b0fa455684edd7d68ae3942b",
            "value": "Downloading: 6.22kB [00:04, 1.44kB/s]"
          }
        },
        "2f4b2d8f6c8948a9a969c3354862b6af": {
          "model_module": "@jupyter-widgets/base",
          "model_name": "LayoutModel",
          "model_module_version": "1.2.0",
          "state": {
            "_model_module": "@jupyter-widgets/base",
            "_model_module_version": "1.2.0",
            "_model_name": "LayoutModel",
            "_view_count": null,
            "_view_module": "@jupyter-widgets/base",
            "_view_module_version": "1.2.0",
            "_view_name": "LayoutView",
            "align_content": null,
            "align_items": null,
            "align_self": null,
            "border": null,
            "bottom": null,
            "display": null,
            "flex": null,
            "flex_flow": null,
            "grid_area": null,
            "grid_auto_columns": null,
            "grid_auto_flow": null,
            "grid_auto_rows": null,
            "grid_column": null,
            "grid_gap": null,
            "grid_row": null,
            "grid_template_areas": null,
            "grid_template_columns": null,
            "grid_template_rows": null,
            "height": null,
            "justify_content": null,
            "justify_items": null,
            "left": null,
            "margin": null,
            "max_height": null,
            "max_width": null,
            "min_height": null,
            "min_width": null,
            "object_fit": null,
            "object_position": null,
            "order": null,
            "overflow": null,
            "overflow_x": null,
            "overflow_y": null,
            "padding": null,
            "right": null,
            "top": null,
            "visibility": null,
            "width": null
          }
        },
        "6a3259f1c76e4e32a119bf18f79c5055": {
          "model_module": "@jupyter-widgets/base",
          "model_name": "LayoutModel",
          "model_module_version": "1.2.0",
          "state": {
            "_model_module": "@jupyter-widgets/base",
            "_model_module_version": "1.2.0",
            "_model_name": "LayoutModel",
            "_view_count": null,
            "_view_module": "@jupyter-widgets/base",
            "_view_module_version": "1.2.0",
            "_view_name": "LayoutView",
            "align_content": null,
            "align_items": null,
            "align_self": null,
            "border": null,
            "bottom": null,
            "display": null,
            "flex": null,
            "flex_flow": null,
            "grid_area": null,
            "grid_auto_columns": null,
            "grid_auto_flow": null,
            "grid_auto_rows": null,
            "grid_column": null,
            "grid_gap": null,
            "grid_row": null,
            "grid_template_areas": null,
            "grid_template_columns": null,
            "grid_template_rows": null,
            "height": null,
            "justify_content": null,
            "justify_items": null,
            "left": null,
            "margin": null,
            "max_height": null,
            "max_width": null,
            "min_height": null,
            "min_width": null,
            "object_fit": null,
            "object_position": null,
            "order": null,
            "overflow": null,
            "overflow_x": null,
            "overflow_y": null,
            "padding": null,
            "right": null,
            "top": null,
            "visibility": null,
            "width": "20px"
          }
        },
        "ee970688ebbf4979b4313aaa9c29587b": {
          "model_module": "@jupyter-widgets/controls",
          "model_name": "ProgressStyleModel",
          "model_module_version": "1.5.0",
          "state": {
            "_model_module": "@jupyter-widgets/controls",
            "_model_module_version": "1.5.0",
            "_model_name": "ProgressStyleModel",
            "_view_count": null,
            "_view_module": "@jupyter-widgets/base",
            "_view_module_version": "1.2.0",
            "_view_name": "StyleView",
            "bar_color": null,
            "description_width": "initial"
          }
        },
        "0e9c7203ae174f37aa02fcc95bdd889b": {
          "model_module": "@jupyter-widgets/base",
          "model_name": "LayoutModel",
          "model_module_version": "1.2.0",
          "state": {
            "_model_module": "@jupyter-widgets/base",
            "_model_module_version": "1.2.0",
            "_model_name": "LayoutModel",
            "_view_count": null,
            "_view_module": "@jupyter-widgets/base",
            "_view_module_version": "1.2.0",
            "_view_name": "LayoutView",
            "align_content": null,
            "align_items": null,
            "align_self": null,
            "border": null,
            "bottom": null,
            "display": null,
            "flex": null,
            "flex_flow": null,
            "grid_area": null,
            "grid_auto_columns": null,
            "grid_auto_flow": null,
            "grid_auto_rows": null,
            "grid_column": null,
            "grid_gap": null,
            "grid_row": null,
            "grid_template_areas": null,
            "grid_template_columns": null,
            "grid_template_rows": null,
            "height": null,
            "justify_content": null,
            "justify_items": null,
            "left": null,
            "margin": null,
            "max_height": null,
            "max_width": null,
            "min_height": null,
            "min_width": null,
            "object_fit": null,
            "object_position": null,
            "order": null,
            "overflow": null,
            "overflow_x": null,
            "overflow_y": null,
            "padding": null,
            "right": null,
            "top": null,
            "visibility": null,
            "width": null
          }
        },
        "e8cace61b0fa455684edd7d68ae3942b": {
          "model_module": "@jupyter-widgets/controls",
          "model_name": "DescriptionStyleModel",
          "model_module_version": "1.5.0",
          "state": {
            "_model_module": "@jupyter-widgets/controls",
            "_model_module_version": "1.5.0",
            "_model_name": "DescriptionStyleModel",
            "_view_count": null,
            "_view_module": "@jupyter-widgets/base",
            "_view_module_version": "1.2.0",
            "_view_name": "StyleView",
            "description_width": ""
          }
        },
        "e971057e548b4ffa989d9431a286c067": {
          "model_module": "@jupyter-widgets/controls",
          "model_name": "HBoxModel",
          "model_module_version": "1.5.0",
          "state": {
            "_dom_classes": [],
            "_model_module": "@jupyter-widgets/controls",
            "_model_module_version": "1.5.0",
            "_model_name": "HBoxModel",
            "_view_count": null,
            "_view_module": "@jupyter-widgets/controls",
            "_view_module_version": "1.5.0",
            "_view_name": "HBoxView",
            "box_style": "",
            "children": [
              "IPY_MODEL_f289d2366a244452a7d0664f885ed43a",
              "IPY_MODEL_87e384f8eec84e6ea1b719632b2fcea7"
            ],
            "layout": "IPY_MODEL_a71c006434d04365a4a80c69b33e1d39"
          }
        },
        "f289d2366a244452a7d0664f885ed43a": {
          "model_module": "@jupyter-widgets/controls",
          "model_name": "FloatProgressModel",
          "model_module_version": "1.5.0",
          "state": {
            "_dom_classes": [],
            "_model_module": "@jupyter-widgets/controls",
            "_model_module_version": "1.5.0",
            "_model_name": "FloatProgressModel",
            "_view_count": null,
            "_view_module": "@jupyter-widgets/controls",
            "_view_module_version": "1.5.0",
            "_view_name": "ProgressView",
            "bar_style": "success",
            "description": "",
            "description_tooltip": null,
            "layout": "IPY_MODEL_86b45960992a411fb55850e8eca2a1d9",
            "max": 1,
            "min": 0,
            "orientation": "horizontal",
            "style": "IPY_MODEL_b9c098c3741f4f869697ca8746f16021",
            "value": 1
          }
        },
        "87e384f8eec84e6ea1b719632b2fcea7": {
          "model_module": "@jupyter-widgets/controls",
          "model_name": "HTMLModel",
          "model_module_version": "1.5.0",
          "state": {
            "_dom_classes": [],
            "_model_module": "@jupyter-widgets/controls",
            "_model_module_version": "1.5.0",
            "_model_name": "HTMLModel",
            "_view_count": null,
            "_view_module": "@jupyter-widgets/controls",
            "_view_module_version": "1.5.0",
            "_view_name": "HTMLView",
            "description": "",
            "description_tooltip": null,
            "layout": "IPY_MODEL_17517f1f642347328c1ad61e62c1b8c4",
            "placeholder": "​",
            "style": "IPY_MODEL_8581a4ef3ca848a881145046859ba602",
            "value": "Downloading: 1.05MB [00:02, 434kB/s]"
          }
        },
        "a71c006434d04365a4a80c69b33e1d39": {
          "model_module": "@jupyter-widgets/base",
          "model_name": "LayoutModel",
          "model_module_version": "1.2.0",
          "state": {
            "_model_module": "@jupyter-widgets/base",
            "_model_module_version": "1.2.0",
            "_model_name": "LayoutModel",
            "_view_count": null,
            "_view_module": "@jupyter-widgets/base",
            "_view_module_version": "1.2.0",
            "_view_name": "LayoutView",
            "align_content": null,
            "align_items": null,
            "align_self": null,
            "border": null,
            "bottom": null,
            "display": null,
            "flex": null,
            "flex_flow": null,
            "grid_area": null,
            "grid_auto_columns": null,
            "grid_auto_flow": null,
            "grid_auto_rows": null,
            "grid_column": null,
            "grid_gap": null,
            "grid_row": null,
            "grid_template_areas": null,
            "grid_template_columns": null,
            "grid_template_rows": null,
            "height": null,
            "justify_content": null,
            "justify_items": null,
            "left": null,
            "margin": null,
            "max_height": null,
            "max_width": null,
            "min_height": null,
            "min_width": null,
            "object_fit": null,
            "object_position": null,
            "order": null,
            "overflow": null,
            "overflow_x": null,
            "overflow_y": null,
            "padding": null,
            "right": null,
            "top": null,
            "visibility": null,
            "width": null
          }
        },
        "86b45960992a411fb55850e8eca2a1d9": {
          "model_module": "@jupyter-widgets/base",
          "model_name": "LayoutModel",
          "model_module_version": "1.2.0",
          "state": {
            "_model_module": "@jupyter-widgets/base",
            "_model_module_version": "1.2.0",
            "_model_name": "LayoutModel",
            "_view_count": null,
            "_view_module": "@jupyter-widgets/base",
            "_view_module_version": "1.2.0",
            "_view_name": "LayoutView",
            "align_content": null,
            "align_items": null,
            "align_self": null,
            "border": null,
            "bottom": null,
            "display": null,
            "flex": null,
            "flex_flow": null,
            "grid_area": null,
            "grid_auto_columns": null,
            "grid_auto_flow": null,
            "grid_auto_rows": null,
            "grid_column": null,
            "grid_gap": null,
            "grid_row": null,
            "grid_template_areas": null,
            "grid_template_columns": null,
            "grid_template_rows": null,
            "height": null,
            "justify_content": null,
            "justify_items": null,
            "left": null,
            "margin": null,
            "max_height": null,
            "max_width": null,
            "min_height": null,
            "min_width": null,
            "object_fit": null,
            "object_position": null,
            "order": null,
            "overflow": null,
            "overflow_x": null,
            "overflow_y": null,
            "padding": null,
            "right": null,
            "top": null,
            "visibility": null,
            "width": "20px"
          }
        },
        "b9c098c3741f4f869697ca8746f16021": {
          "model_module": "@jupyter-widgets/controls",
          "model_name": "ProgressStyleModel",
          "model_module_version": "1.5.0",
          "state": {
            "_model_module": "@jupyter-widgets/controls",
            "_model_module_version": "1.5.0",
            "_model_name": "ProgressStyleModel",
            "_view_count": null,
            "_view_module": "@jupyter-widgets/base",
            "_view_module_version": "1.2.0",
            "_view_name": "StyleView",
            "bar_color": null,
            "description_width": "initial"
          }
        },
        "17517f1f642347328c1ad61e62c1b8c4": {
          "model_module": "@jupyter-widgets/base",
          "model_name": "LayoutModel",
          "model_module_version": "1.2.0",
          "state": {
            "_model_module": "@jupyter-widgets/base",
            "_model_module_version": "1.2.0",
            "_model_name": "LayoutModel",
            "_view_count": null,
            "_view_module": "@jupyter-widgets/base",
            "_view_module_version": "1.2.0",
            "_view_name": "LayoutView",
            "align_content": null,
            "align_items": null,
            "align_self": null,
            "border": null,
            "bottom": null,
            "display": null,
            "flex": null,
            "flex_flow": null,
            "grid_area": null,
            "grid_auto_columns": null,
            "grid_auto_flow": null,
            "grid_auto_rows": null,
            "grid_column": null,
            "grid_gap": null,
            "grid_row": null,
            "grid_template_areas": null,
            "grid_template_columns": null,
            "grid_template_rows": null,
            "height": null,
            "justify_content": null,
            "justify_items": null,
            "left": null,
            "margin": null,
            "max_height": null,
            "max_width": null,
            "min_height": null,
            "min_width": null,
            "object_fit": null,
            "object_position": null,
            "order": null,
            "overflow": null,
            "overflow_x": null,
            "overflow_y": null,
            "padding": null,
            "right": null,
            "top": null,
            "visibility": null,
            "width": null
          }
        },
        "8581a4ef3ca848a881145046859ba602": {
          "model_module": "@jupyter-widgets/controls",
          "model_name": "DescriptionStyleModel",
          "model_module_version": "1.5.0",
          "state": {
            "_model_module": "@jupyter-widgets/controls",
            "_model_module_version": "1.5.0",
            "_model_name": "DescriptionStyleModel",
            "_view_count": null,
            "_view_module": "@jupyter-widgets/base",
            "_view_module_version": "1.2.0",
            "_view_name": "StyleView",
            "description_width": ""
          }
        },
        "587f0ed605df4562b02df681ec145be9": {
          "model_module": "@jupyter-widgets/controls",
          "model_name": "HBoxModel",
          "model_module_version": "1.5.0",
          "state": {
            "_dom_classes": [],
            "_model_module": "@jupyter-widgets/controls",
            "_model_module_version": "1.5.0",
            "_model_name": "HBoxModel",
            "_view_count": null,
            "_view_module": "@jupyter-widgets/controls",
            "_view_module_version": "1.5.0",
            "_view_name": "HBoxView",
            "box_style": "",
            "children": [
              "IPY_MODEL_0e6988bb75654f23b4951f75fed55bc9",
              "IPY_MODEL_5d26744a7b944afda4b80bfd072d8d2b"
            ],
            "layout": "IPY_MODEL_2966171e5502400aa5c3c144bd48efdc"
          }
        },
        "0e6988bb75654f23b4951f75fed55bc9": {
          "model_module": "@jupyter-widgets/controls",
          "model_name": "FloatProgressModel",
          "model_module_version": "1.5.0",
          "state": {
            "_dom_classes": [],
            "_model_module": "@jupyter-widgets/controls",
            "_model_module_version": "1.5.0",
            "_model_name": "FloatProgressModel",
            "_view_count": null,
            "_view_module": "@jupyter-widgets/controls",
            "_view_module_version": "1.5.0",
            "_view_name": "ProgressView",
            "bar_style": "success",
            "description": "",
            "description_tooltip": null,
            "layout": "IPY_MODEL_f41e2dd2e4cf4d1794b14722e9a9e0ad",
            "max": 1,
            "min": 0,
            "orientation": "horizontal",
            "style": "IPY_MODEL_34f0d2423804442c8d5f637efd9988e6",
            "value": 1
          }
        },
        "5d26744a7b944afda4b80bfd072d8d2b": {
          "model_module": "@jupyter-widgets/controls",
          "model_name": "HTMLModel",
          "model_module_version": "1.5.0",
          "state": {
            "_dom_classes": [],
            "_model_module": "@jupyter-widgets/controls",
            "_model_module_version": "1.5.0",
            "_model_name": "HTMLModel",
            "_view_count": null,
            "_view_module": "@jupyter-widgets/controls",
            "_view_module_version": "1.5.0",
            "_view_name": "HTMLView",
            "description": "",
            "description_tooltip": null,
            "layout": "IPY_MODEL_26c6aa416d804271a4acfc7642fe0a7e",
            "placeholder": "​",
            "style": "IPY_MODEL_23bcf88294624557ae37991af2d1085a",
            "value": "Downloading: 441kB [00:01, 334kB/s]"
          }
        },
        "2966171e5502400aa5c3c144bd48efdc": {
          "model_module": "@jupyter-widgets/base",
          "model_name": "LayoutModel",
          "model_module_version": "1.2.0",
          "state": {
            "_model_module": "@jupyter-widgets/base",
            "_model_module_version": "1.2.0",
            "_model_name": "LayoutModel",
            "_view_count": null,
            "_view_module": "@jupyter-widgets/base",
            "_view_module_version": "1.2.0",
            "_view_name": "LayoutView",
            "align_content": null,
            "align_items": null,
            "align_self": null,
            "border": null,
            "bottom": null,
            "display": null,
            "flex": null,
            "flex_flow": null,
            "grid_area": null,
            "grid_auto_columns": null,
            "grid_auto_flow": null,
            "grid_auto_rows": null,
            "grid_column": null,
            "grid_gap": null,
            "grid_row": null,
            "grid_template_areas": null,
            "grid_template_columns": null,
            "grid_template_rows": null,
            "height": null,
            "justify_content": null,
            "justify_items": null,
            "left": null,
            "margin": null,
            "max_height": null,
            "max_width": null,
            "min_height": null,
            "min_width": null,
            "object_fit": null,
            "object_position": null,
            "order": null,
            "overflow": null,
            "overflow_x": null,
            "overflow_y": null,
            "padding": null,
            "right": null,
            "top": null,
            "visibility": null,
            "width": null
          }
        },
        "f41e2dd2e4cf4d1794b14722e9a9e0ad": {
          "model_module": "@jupyter-widgets/base",
          "model_name": "LayoutModel",
          "model_module_version": "1.2.0",
          "state": {
            "_model_module": "@jupyter-widgets/base",
            "_model_module_version": "1.2.0",
            "_model_name": "LayoutModel",
            "_view_count": null,
            "_view_module": "@jupyter-widgets/base",
            "_view_module_version": "1.2.0",
            "_view_name": "LayoutView",
            "align_content": null,
            "align_items": null,
            "align_self": null,
            "border": null,
            "bottom": null,
            "display": null,
            "flex": null,
            "flex_flow": null,
            "grid_area": null,
            "grid_auto_columns": null,
            "grid_auto_flow": null,
            "grid_auto_rows": null,
            "grid_column": null,
            "grid_gap": null,
            "grid_row": null,
            "grid_template_areas": null,
            "grid_template_columns": null,
            "grid_template_rows": null,
            "height": null,
            "justify_content": null,
            "justify_items": null,
            "left": null,
            "margin": null,
            "max_height": null,
            "max_width": null,
            "min_height": null,
            "min_width": null,
            "object_fit": null,
            "object_position": null,
            "order": null,
            "overflow": null,
            "overflow_x": null,
            "overflow_y": null,
            "padding": null,
            "right": null,
            "top": null,
            "visibility": null,
            "width": "20px"
          }
        },
        "34f0d2423804442c8d5f637efd9988e6": {
          "model_module": "@jupyter-widgets/controls",
          "model_name": "ProgressStyleModel",
          "model_module_version": "1.5.0",
          "state": {
            "_model_module": "@jupyter-widgets/controls",
            "_model_module_version": "1.5.0",
            "_model_name": "ProgressStyleModel",
            "_view_count": null,
            "_view_module": "@jupyter-widgets/base",
            "_view_module_version": "1.2.0",
            "_view_name": "StyleView",
            "bar_color": null,
            "description_width": "initial"
          }
        },
        "26c6aa416d804271a4acfc7642fe0a7e": {
          "model_module": "@jupyter-widgets/base",
          "model_name": "LayoutModel",
          "model_module_version": "1.2.0",
          "state": {
            "_model_module": "@jupyter-widgets/base",
            "_model_module_version": "1.2.0",
            "_model_name": "LayoutModel",
            "_view_count": null,
            "_view_module": "@jupyter-widgets/base",
            "_view_module_version": "1.2.0",
            "_view_name": "LayoutView",
            "align_content": null,
            "align_items": null,
            "align_self": null,
            "border": null,
            "bottom": null,
            "display": null,
            "flex": null,
            "flex_flow": null,
            "grid_area": null,
            "grid_auto_columns": null,
            "grid_auto_flow": null,
            "grid_auto_rows": null,
            "grid_column": null,
            "grid_gap": null,
            "grid_row": null,
            "grid_template_areas": null,
            "grid_template_columns": null,
            "grid_template_rows": null,
            "height": null,
            "justify_content": null,
            "justify_items": null,
            "left": null,
            "margin": null,
            "max_height": null,
            "max_width": null,
            "min_height": null,
            "min_width": null,
            "object_fit": null,
            "object_position": null,
            "order": null,
            "overflow": null,
            "overflow_x": null,
            "overflow_y": null,
            "padding": null,
            "right": null,
            "top": null,
            "visibility": null,
            "width": null
          }
        },
        "23bcf88294624557ae37991af2d1085a": {
          "model_module": "@jupyter-widgets/controls",
          "model_name": "DescriptionStyleModel",
          "model_module_version": "1.5.0",
          "state": {
            "_model_module": "@jupyter-widgets/controls",
            "_model_module_version": "1.5.0",
            "_model_name": "DescriptionStyleModel",
            "_view_count": null,
            "_view_module": "@jupyter-widgets/base",
            "_view_module_version": "1.2.0",
            "_view_name": "StyleView",
            "description_width": ""
          }
        },
        "ae2f34613aa241b8a42d193eba36cc82": {
          "model_module": "@jupyter-widgets/controls",
          "model_name": "HBoxModel",
          "model_module_version": "1.5.0",
          "state": {
            "_dom_classes": [],
            "_model_module": "@jupyter-widgets/controls",
            "_model_module_version": "1.5.0",
            "_model_name": "HBoxModel",
            "_view_count": null,
            "_view_module": "@jupyter-widgets/controls",
            "_view_module_version": "1.5.0",
            "_view_name": "HBoxView",
            "box_style": "",
            "children": [
              "IPY_MODEL_d5ecf30d211940cebef7bc6e1ee3e78d",
              "IPY_MODEL_91c957d9a44d4489b914192480a07b79"
            ],
            "layout": "IPY_MODEL_2cc0504473e446cbb5657453b578b861"
          }
        },
        "d5ecf30d211940cebef7bc6e1ee3e78d": {
          "model_module": "@jupyter-widgets/controls",
          "model_name": "FloatProgressModel",
          "model_module_version": "1.5.0",
          "state": {
            "_dom_classes": [],
            "_model_module": "@jupyter-widgets/controls",
            "_model_module_version": "1.5.0",
            "_model_name": "FloatProgressModel",
            "_view_count": null,
            "_view_module": "@jupyter-widgets/controls",
            "_view_module_version": "1.5.0",
            "_view_name": "ProgressView",
            "bar_style": "info",
            "description": "",
            "description_tooltip": null,
            "layout": "IPY_MODEL_9828ecbe775b48249bcdc32a1dfb5b39",
            "max": 1,
            "min": 0,
            "orientation": "horizontal",
            "style": "IPY_MODEL_cc0401d78a71413fb11e987531e60be0",
            "value": 1
          }
        },
        "91c957d9a44d4489b914192480a07b79": {
          "model_module": "@jupyter-widgets/controls",
          "model_name": "HTMLModel",
          "model_module_version": "1.5.0",
          "state": {
            "_dom_classes": [],
            "_model_module": "@jupyter-widgets/controls",
            "_model_module_version": "1.5.0",
            "_model_name": "HTMLModel",
            "_view_count": null,
            "_view_module": "@jupyter-widgets/controls",
            "_view_module_version": "1.5.0",
            "_view_name": "HTMLView",
            "description": "",
            "description_tooltip": null,
            "layout": "IPY_MODEL_8d8f3266a90441b4801d88a8c2382eaf",
            "placeholder": "​",
            "style": "IPY_MODEL_c8c7d3d5ffe247eea90b5d14a3c8b0f5",
            "value": "3668 examples [00:00, 14827.04 examples/s]"
          }
        },
        "2cc0504473e446cbb5657453b578b861": {
          "model_module": "@jupyter-widgets/base",
          "model_name": "LayoutModel",
          "model_module_version": "1.2.0",
          "state": {
            "_model_module": "@jupyter-widgets/base",
            "_model_module_version": "1.2.0",
            "_model_name": "LayoutModel",
            "_view_count": null,
            "_view_module": "@jupyter-widgets/base",
            "_view_module_version": "1.2.0",
            "_view_name": "LayoutView",
            "align_content": null,
            "align_items": null,
            "align_self": null,
            "border": null,
            "bottom": null,
            "display": null,
            "flex": null,
            "flex_flow": null,
            "grid_area": null,
            "grid_auto_columns": null,
            "grid_auto_flow": null,
            "grid_auto_rows": null,
            "grid_column": null,
            "grid_gap": null,
            "grid_row": null,
            "grid_template_areas": null,
            "grid_template_columns": null,
            "grid_template_rows": null,
            "height": null,
            "justify_content": null,
            "justify_items": null,
            "left": null,
            "margin": null,
            "max_height": null,
            "max_width": null,
            "min_height": null,
            "min_width": null,
            "object_fit": null,
            "object_position": null,
            "order": null,
            "overflow": null,
            "overflow_x": null,
            "overflow_y": null,
            "padding": null,
            "right": null,
            "top": null,
            "visibility": null,
            "width": null
          }
        },
        "9828ecbe775b48249bcdc32a1dfb5b39": {
          "model_module": "@jupyter-widgets/base",
          "model_name": "LayoutModel",
          "model_module_version": "1.2.0",
          "state": {
            "_model_module": "@jupyter-widgets/base",
            "_model_module_version": "1.2.0",
            "_model_name": "LayoutModel",
            "_view_count": null,
            "_view_module": "@jupyter-widgets/base",
            "_view_module_version": "1.2.0",
            "_view_name": "LayoutView",
            "align_content": null,
            "align_items": null,
            "align_self": null,
            "border": null,
            "bottom": null,
            "display": null,
            "flex": null,
            "flex_flow": null,
            "grid_area": null,
            "grid_auto_columns": null,
            "grid_auto_flow": null,
            "grid_auto_rows": null,
            "grid_column": null,
            "grid_gap": null,
            "grid_row": null,
            "grid_template_areas": null,
            "grid_template_columns": null,
            "grid_template_rows": null,
            "height": null,
            "justify_content": null,
            "justify_items": null,
            "left": null,
            "margin": null,
            "max_height": null,
            "max_width": null,
            "min_height": null,
            "min_width": null,
            "object_fit": null,
            "object_position": null,
            "order": null,
            "overflow": null,
            "overflow_x": null,
            "overflow_y": null,
            "padding": null,
            "right": null,
            "top": null,
            "visibility": null,
            "width": "20px"
          }
        },
        "cc0401d78a71413fb11e987531e60be0": {
          "model_module": "@jupyter-widgets/controls",
          "model_name": "ProgressStyleModel",
          "model_module_version": "1.5.0",
          "state": {
            "_model_module": "@jupyter-widgets/controls",
            "_model_module_version": "1.5.0",
            "_model_name": "ProgressStyleModel",
            "_view_count": null,
            "_view_module": "@jupyter-widgets/base",
            "_view_module_version": "1.2.0",
            "_view_name": "StyleView",
            "bar_color": null,
            "description_width": "initial"
          }
        },
        "8d8f3266a90441b4801d88a8c2382eaf": {
          "model_module": "@jupyter-widgets/base",
          "model_name": "LayoutModel",
          "model_module_version": "1.2.0",
          "state": {
            "_model_module": "@jupyter-widgets/base",
            "_model_module_version": "1.2.0",
            "_model_name": "LayoutModel",
            "_view_count": null,
            "_view_module": "@jupyter-widgets/base",
            "_view_module_version": "1.2.0",
            "_view_name": "LayoutView",
            "align_content": null,
            "align_items": null,
            "align_self": null,
            "border": null,
            "bottom": null,
            "display": null,
            "flex": null,
            "flex_flow": null,
            "grid_area": null,
            "grid_auto_columns": null,
            "grid_auto_flow": null,
            "grid_auto_rows": null,
            "grid_column": null,
            "grid_gap": null,
            "grid_row": null,
            "grid_template_areas": null,
            "grid_template_columns": null,
            "grid_template_rows": null,
            "height": null,
            "justify_content": null,
            "justify_items": null,
            "left": null,
            "margin": null,
            "max_height": null,
            "max_width": null,
            "min_height": null,
            "min_width": null,
            "object_fit": null,
            "object_position": null,
            "order": null,
            "overflow": null,
            "overflow_x": null,
            "overflow_y": null,
            "padding": null,
            "right": null,
            "top": null,
            "visibility": null,
            "width": null
          }
        },
        "c8c7d3d5ffe247eea90b5d14a3c8b0f5": {
          "model_module": "@jupyter-widgets/controls",
          "model_name": "DescriptionStyleModel",
          "model_module_version": "1.5.0",
          "state": {
            "_model_module": "@jupyter-widgets/controls",
            "_model_module_version": "1.5.0",
            "_model_name": "DescriptionStyleModel",
            "_view_count": null,
            "_view_module": "@jupyter-widgets/base",
            "_view_module_version": "1.2.0",
            "_view_name": "StyleView",
            "description_width": ""
          }
        },
        "13d1cee55dbd46de9fa4b8dbfac312dd": {
          "model_module": "@jupyter-widgets/controls",
          "model_name": "HBoxModel",
          "model_module_version": "1.5.0",
          "state": {
            "_dom_classes": [],
            "_model_module": "@jupyter-widgets/controls",
            "_model_module_version": "1.5.0",
            "_model_name": "HBoxModel",
            "_view_count": null,
            "_view_module": "@jupyter-widgets/controls",
            "_view_module_version": "1.5.0",
            "_view_name": "HBoxView",
            "box_style": "",
            "children": [
              "IPY_MODEL_40b91f7cc61a44ed9c0f209f0b1df8b6",
              "IPY_MODEL_a1d7a9fcf75f445fa18e35e2c0eb42b8"
            ],
            "layout": "IPY_MODEL_4de6e7422ebb44b280e4801840e1e864"
          }
        },
        "40b91f7cc61a44ed9c0f209f0b1df8b6": {
          "model_module": "@jupyter-widgets/controls",
          "model_name": "FloatProgressModel",
          "model_module_version": "1.5.0",
          "state": {
            "_dom_classes": [],
            "_model_module": "@jupyter-widgets/controls",
            "_model_module_version": "1.5.0",
            "_model_name": "FloatProgressModel",
            "_view_count": null,
            "_view_module": "@jupyter-widgets/controls",
            "_view_module_version": "1.5.0",
            "_view_name": "ProgressView",
            "bar_style": "info",
            "description": "",
            "description_tooltip": null,
            "layout": "IPY_MODEL_18d6a16d3b91464baaa8f0522b12f8b0",
            "max": 1,
            "min": 0,
            "orientation": "horizontal",
            "style": "IPY_MODEL_3e5ace5ac5784c50a02071723dbed4a8",
            "value": 1
          }
        },
        "a1d7a9fcf75f445fa18e35e2c0eb42b8": {
          "model_module": "@jupyter-widgets/controls",
          "model_name": "HTMLModel",
          "model_module_version": "1.5.0",
          "state": {
            "_dom_classes": [],
            "_model_module": "@jupyter-widgets/controls",
            "_model_module_version": "1.5.0",
            "_model_name": "HTMLModel",
            "_view_count": null,
            "_view_module": "@jupyter-widgets/controls",
            "_view_module_version": "1.5.0",
            "_view_name": "HTMLView",
            "description": "",
            "description_tooltip": null,
            "layout": "IPY_MODEL_02d2eb5d64f7439c859ccf4857a70d51",
            "placeholder": "​",
            "style": "IPY_MODEL_88b42e91202f4780a833253c104383e9",
            "value": "408 examples [00:00, 3266.44 examples/s]"
          }
        },
        "4de6e7422ebb44b280e4801840e1e864": {
          "model_module": "@jupyter-widgets/base",
          "model_name": "LayoutModel",
          "model_module_version": "1.2.0",
          "state": {
            "_model_module": "@jupyter-widgets/base",
            "_model_module_version": "1.2.0",
            "_model_name": "LayoutModel",
            "_view_count": null,
            "_view_module": "@jupyter-widgets/base",
            "_view_module_version": "1.2.0",
            "_view_name": "LayoutView",
            "align_content": null,
            "align_items": null,
            "align_self": null,
            "border": null,
            "bottom": null,
            "display": null,
            "flex": null,
            "flex_flow": null,
            "grid_area": null,
            "grid_auto_columns": null,
            "grid_auto_flow": null,
            "grid_auto_rows": null,
            "grid_column": null,
            "grid_gap": null,
            "grid_row": null,
            "grid_template_areas": null,
            "grid_template_columns": null,
            "grid_template_rows": null,
            "height": null,
            "justify_content": null,
            "justify_items": null,
            "left": null,
            "margin": null,
            "max_height": null,
            "max_width": null,
            "min_height": null,
            "min_width": null,
            "object_fit": null,
            "object_position": null,
            "order": null,
            "overflow": null,
            "overflow_x": null,
            "overflow_y": null,
            "padding": null,
            "right": null,
            "top": null,
            "visibility": null,
            "width": null
          }
        },
        "18d6a16d3b91464baaa8f0522b12f8b0": {
          "model_module": "@jupyter-widgets/base",
          "model_name": "LayoutModel",
          "model_module_version": "1.2.0",
          "state": {
            "_model_module": "@jupyter-widgets/base",
            "_model_module_version": "1.2.0",
            "_model_name": "LayoutModel",
            "_view_count": null,
            "_view_module": "@jupyter-widgets/base",
            "_view_module_version": "1.2.0",
            "_view_name": "LayoutView",
            "align_content": null,
            "align_items": null,
            "align_self": null,
            "border": null,
            "bottom": null,
            "display": null,
            "flex": null,
            "flex_flow": null,
            "grid_area": null,
            "grid_auto_columns": null,
            "grid_auto_flow": null,
            "grid_auto_rows": null,
            "grid_column": null,
            "grid_gap": null,
            "grid_row": null,
            "grid_template_areas": null,
            "grid_template_columns": null,
            "grid_template_rows": null,
            "height": null,
            "justify_content": null,
            "justify_items": null,
            "left": null,
            "margin": null,
            "max_height": null,
            "max_width": null,
            "min_height": null,
            "min_width": null,
            "object_fit": null,
            "object_position": null,
            "order": null,
            "overflow": null,
            "overflow_x": null,
            "overflow_y": null,
            "padding": null,
            "right": null,
            "top": null,
            "visibility": null,
            "width": "20px"
          }
        },
        "3e5ace5ac5784c50a02071723dbed4a8": {
          "model_module": "@jupyter-widgets/controls",
          "model_name": "ProgressStyleModel",
          "model_module_version": "1.5.0",
          "state": {
            "_model_module": "@jupyter-widgets/controls",
            "_model_module_version": "1.5.0",
            "_model_name": "ProgressStyleModel",
            "_view_count": null,
            "_view_module": "@jupyter-widgets/base",
            "_view_module_version": "1.2.0",
            "_view_name": "StyleView",
            "bar_color": null,
            "description_width": "initial"
          }
        },
        "02d2eb5d64f7439c859ccf4857a70d51": {
          "model_module": "@jupyter-widgets/base",
          "model_name": "LayoutModel",
          "model_module_version": "1.2.0",
          "state": {
            "_model_module": "@jupyter-widgets/base",
            "_model_module_version": "1.2.0",
            "_model_name": "LayoutModel",
            "_view_count": null,
            "_view_module": "@jupyter-widgets/base",
            "_view_module_version": "1.2.0",
            "_view_name": "LayoutView",
            "align_content": null,
            "align_items": null,
            "align_self": null,
            "border": null,
            "bottom": null,
            "display": null,
            "flex": null,
            "flex_flow": null,
            "grid_area": null,
            "grid_auto_columns": null,
            "grid_auto_flow": null,
            "grid_auto_rows": null,
            "grid_column": null,
            "grid_gap": null,
            "grid_row": null,
            "grid_template_areas": null,
            "grid_template_columns": null,
            "grid_template_rows": null,
            "height": null,
            "justify_content": null,
            "justify_items": null,
            "left": null,
            "margin": null,
            "max_height": null,
            "max_width": null,
            "min_height": null,
            "min_width": null,
            "object_fit": null,
            "object_position": null,
            "order": null,
            "overflow": null,
            "overflow_x": null,
            "overflow_y": null,
            "padding": null,
            "right": null,
            "top": null,
            "visibility": null,
            "width": null
          }
        },
        "88b42e91202f4780a833253c104383e9": {
          "model_module": "@jupyter-widgets/controls",
          "model_name": "DescriptionStyleModel",
          "model_module_version": "1.5.0",
          "state": {
            "_model_module": "@jupyter-widgets/controls",
            "_model_module_version": "1.5.0",
            "_model_name": "DescriptionStyleModel",
            "_view_count": null,
            "_view_module": "@jupyter-widgets/base",
            "_view_module_version": "1.2.0",
            "_view_name": "StyleView",
            "description_width": ""
          }
        },
        "0557fa5057d84cf3911e54583739899b": {
          "model_module": "@jupyter-widgets/controls",
          "model_name": "HBoxModel",
          "model_module_version": "1.5.0",
          "state": {
            "_dom_classes": [],
            "_model_module": "@jupyter-widgets/controls",
            "_model_module_version": "1.5.0",
            "_model_name": "HBoxModel",
            "_view_count": null,
            "_view_module": "@jupyter-widgets/controls",
            "_view_module_version": "1.5.0",
            "_view_name": "HBoxView",
            "box_style": "",
            "children": [
              "IPY_MODEL_2eefd64b89364ab3b3f5213ecd7ee4cb",
              "IPY_MODEL_3b80b17c73994110a75e9256bd7d467b"
            ],
            "layout": "IPY_MODEL_ccedcc674958435bacccf82c6274928e"
          }
        },
        "2eefd64b89364ab3b3f5213ecd7ee4cb": {
          "model_module": "@jupyter-widgets/controls",
          "model_name": "FloatProgressModel",
          "model_module_version": "1.5.0",
          "state": {
            "_dom_classes": [],
            "_model_module": "@jupyter-widgets/controls",
            "_model_module_version": "1.5.0",
            "_model_name": "FloatProgressModel",
            "_view_count": null,
            "_view_module": "@jupyter-widgets/controls",
            "_view_module_version": "1.5.0",
            "_view_name": "ProgressView",
            "bar_style": "info",
            "description": "",
            "description_tooltip": null,
            "layout": "IPY_MODEL_0b71073c8d9444639071c5a1ed958e29",
            "max": 1,
            "min": 0,
            "orientation": "horizontal",
            "style": "IPY_MODEL_f2b5519dca4f473699046c10bf6228f2",
            "value": 1
          }
        },
        "3b80b17c73994110a75e9256bd7d467b": {
          "model_module": "@jupyter-widgets/controls",
          "model_name": "HTMLModel",
          "model_module_version": "1.5.0",
          "state": {
            "_dom_classes": [],
            "_model_module": "@jupyter-widgets/controls",
            "_model_module_version": "1.5.0",
            "_model_name": "HTMLModel",
            "_view_count": null,
            "_view_module": "@jupyter-widgets/controls",
            "_view_module_version": "1.5.0",
            "_view_name": "HTMLView",
            "description": "",
            "description_tooltip": null,
            "layout": "IPY_MODEL_74ae27ec947a4f17a16e7b40b41205dd",
            "placeholder": "​",
            "style": "IPY_MODEL_2579ef2a9ebb4a7ea30bdfc2c9bc01a2",
            "value": "1725 examples [00:00, 20716.97 examples/s]"
          }
        },
        "ccedcc674958435bacccf82c6274928e": {
          "model_module": "@jupyter-widgets/base",
          "model_name": "LayoutModel",
          "model_module_version": "1.2.0",
          "state": {
            "_model_module": "@jupyter-widgets/base",
            "_model_module_version": "1.2.0",
            "_model_name": "LayoutModel",
            "_view_count": null,
            "_view_module": "@jupyter-widgets/base",
            "_view_module_version": "1.2.0",
            "_view_name": "LayoutView",
            "align_content": null,
            "align_items": null,
            "align_self": null,
            "border": null,
            "bottom": null,
            "display": null,
            "flex": null,
            "flex_flow": null,
            "grid_area": null,
            "grid_auto_columns": null,
            "grid_auto_flow": null,
            "grid_auto_rows": null,
            "grid_column": null,
            "grid_gap": null,
            "grid_row": null,
            "grid_template_areas": null,
            "grid_template_columns": null,
            "grid_template_rows": null,
            "height": null,
            "justify_content": null,
            "justify_items": null,
            "left": null,
            "margin": null,
            "max_height": null,
            "max_width": null,
            "min_height": null,
            "min_width": null,
            "object_fit": null,
            "object_position": null,
            "order": null,
            "overflow": null,
            "overflow_x": null,
            "overflow_y": null,
            "padding": null,
            "right": null,
            "top": null,
            "visibility": null,
            "width": null
          }
        },
        "0b71073c8d9444639071c5a1ed958e29": {
          "model_module": "@jupyter-widgets/base",
          "model_name": "LayoutModel",
          "model_module_version": "1.2.0",
          "state": {
            "_model_module": "@jupyter-widgets/base",
            "_model_module_version": "1.2.0",
            "_model_name": "LayoutModel",
            "_view_count": null,
            "_view_module": "@jupyter-widgets/base",
            "_view_module_version": "1.2.0",
            "_view_name": "LayoutView",
            "align_content": null,
            "align_items": null,
            "align_self": null,
            "border": null,
            "bottom": null,
            "display": null,
            "flex": null,
            "flex_flow": null,
            "grid_area": null,
            "grid_auto_columns": null,
            "grid_auto_flow": null,
            "grid_auto_rows": null,
            "grid_column": null,
            "grid_gap": null,
            "grid_row": null,
            "grid_template_areas": null,
            "grid_template_columns": null,
            "grid_template_rows": null,
            "height": null,
            "justify_content": null,
            "justify_items": null,
            "left": null,
            "margin": null,
            "max_height": null,
            "max_width": null,
            "min_height": null,
            "min_width": null,
            "object_fit": null,
            "object_position": null,
            "order": null,
            "overflow": null,
            "overflow_x": null,
            "overflow_y": null,
            "padding": null,
            "right": null,
            "top": null,
            "visibility": null,
            "width": "20px"
          }
        },
        "f2b5519dca4f473699046c10bf6228f2": {
          "model_module": "@jupyter-widgets/controls",
          "model_name": "ProgressStyleModel",
          "model_module_version": "1.5.0",
          "state": {
            "_model_module": "@jupyter-widgets/controls",
            "_model_module_version": "1.5.0",
            "_model_name": "ProgressStyleModel",
            "_view_count": null,
            "_view_module": "@jupyter-widgets/base",
            "_view_module_version": "1.2.0",
            "_view_name": "StyleView",
            "bar_color": null,
            "description_width": "initial"
          }
        },
        "74ae27ec947a4f17a16e7b40b41205dd": {
          "model_module": "@jupyter-widgets/base",
          "model_name": "LayoutModel",
          "model_module_version": "1.2.0",
          "state": {
            "_model_module": "@jupyter-widgets/base",
            "_model_module_version": "1.2.0",
            "_model_name": "LayoutModel",
            "_view_count": null,
            "_view_module": "@jupyter-widgets/base",
            "_view_module_version": "1.2.0",
            "_view_name": "LayoutView",
            "align_content": null,
            "align_items": null,
            "align_self": null,
            "border": null,
            "bottom": null,
            "display": null,
            "flex": null,
            "flex_flow": null,
            "grid_area": null,
            "grid_auto_columns": null,
            "grid_auto_flow": null,
            "grid_auto_rows": null,
            "grid_column": null,
            "grid_gap": null,
            "grid_row": null,
            "grid_template_areas": null,
            "grid_template_columns": null,
            "grid_template_rows": null,
            "height": null,
            "justify_content": null,
            "justify_items": null,
            "left": null,
            "margin": null,
            "max_height": null,
            "max_width": null,
            "min_height": null,
            "min_width": null,
            "object_fit": null,
            "object_position": null,
            "order": null,
            "overflow": null,
            "overflow_x": null,
            "overflow_y": null,
            "padding": null,
            "right": null,
            "top": null,
            "visibility": null,
            "width": null
          }
        },
        "2579ef2a9ebb4a7ea30bdfc2c9bc01a2": {
          "model_module": "@jupyter-widgets/controls",
          "model_name": "DescriptionStyleModel",
          "model_module_version": "1.5.0",
          "state": {
            "_model_module": "@jupyter-widgets/controls",
            "_model_module_version": "1.5.0",
            "_model_name": "DescriptionStyleModel",
            "_view_count": null,
            "_view_module": "@jupyter-widgets/base",
            "_view_module_version": "1.2.0",
            "_view_name": "StyleView",
            "description_width": ""
          }
        }
      }
    }
  },
  "nbformat": 4,
  "nbformat_minor": 0
}